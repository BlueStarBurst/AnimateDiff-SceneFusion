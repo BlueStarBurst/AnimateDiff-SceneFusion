{
 "cells": [
  {
   "cell_type": "code",
   "execution_count": 1,
   "metadata": {},
   "outputs": [
    {
     "name": "stdout",
     "output_type": "stream",
     "text": [
      "c:\\Users\\texas\\Desktop\\School\\SceneFusion\\AnimateDiff-SceneFusion\\data\\EveryDream\n"
     ]
    },
    {
     "name": "stderr",
     "output_type": "stream",
     "text": [
      "fatal: destination path 'EveryDream' already exists and is not an empty directory.\n"
     ]
    }
   ],
   "source": [
    "#download repo\n",
    "!git clone https://github.com/victorchall/EveryDream.git\n",
    "# Set working directory\n",
    "%cd EveryDream"
   ]
  },
  {
   "cell_type": "code",
   "execution_count": 2,
   "metadata": {},
   "outputs": [
    {
     "name": "stderr",
     "output_type": "stream",
     "text": [
      "fatal: destination path 'scripts/BLIP' already exists and is not an empty directory.\n"
     ]
    },
    {
     "name": "stdout",
     "output_type": "stream",
     "text": [
      "Requirement already satisfied: timm in c:\\users\\texas\\anaconda3\\envs\\animatediff\\lib\\site-packages (0.9.10)\n",
      "Requirement already satisfied: torch>=1.7 in c:\\users\\texas\\anaconda3\\envs\\animatediff\\lib\\site-packages (from timm) (1.13.1)\n",
      "Requirement already satisfied: torchvision in c:\\users\\texas\\anaconda3\\envs\\animatediff\\lib\\site-packages (from timm) (0.14.1)\n",
      "Requirement already satisfied: pyyaml in c:\\users\\texas\\anaconda3\\envs\\animatediff\\lib\\site-packages (from timm) (6.0.1)\n",
      "Requirement already satisfied: huggingface-hub in c:\\users\\texas\\anaconda3\\envs\\animatediff\\lib\\site-packages (from timm) (0.19.3)\n",
      "Requirement already satisfied: safetensors in c:\\users\\texas\\anaconda3\\envs\\animatediff\\lib\\site-packages (from timm) (0.4.0)\n",
      "Requirement already satisfied: typing_extensions in c:\\users\\texas\\anaconda3\\envs\\animatediff\\lib\\site-packages (from torch>=1.7->timm) (4.8.0)\n",
      "Requirement already satisfied: filelock in c:\\users\\texas\\anaconda3\\envs\\animatediff\\lib\\site-packages (from huggingface-hub->timm) (3.13.1)\n",
      "Requirement already satisfied: fsspec>=2023.5.0 in c:\\users\\texas\\anaconda3\\envs\\animatediff\\lib\\site-packages (from huggingface-hub->timm) (2023.10.0)\n",
      "Requirement already satisfied: requests in c:\\users\\texas\\anaconda3\\envs\\animatediff\\lib\\site-packages (from huggingface-hub->timm) (2.31.0)\n",
      "Requirement already satisfied: tqdm>=4.42.1 in c:\\users\\texas\\anaconda3\\envs\\animatediff\\lib\\site-packages (from huggingface-hub->timm) (4.66.1)\n",
      "Requirement already satisfied: packaging>=20.9 in c:\\users\\texas\\anaconda3\\envs\\animatediff\\lib\\site-packages (from huggingface-hub->timm) (23.2)\n",
      "Requirement already satisfied: numpy in c:\\users\\texas\\anaconda3\\envs\\animatediff\\lib\\site-packages (from torchvision->timm) (1.26.0)\n",
      "Requirement already satisfied: pillow!=8.3.*,>=5.3.0 in c:\\users\\texas\\anaconda3\\envs\\animatediff\\lib\\site-packages (from torchvision->timm) (10.1.0)\n",
      "Requirement already satisfied: colorama in c:\\users\\texas\\anaconda3\\envs\\animatediff\\lib\\site-packages (from tqdm>=4.42.1->huggingface-hub->timm) (0.4.6)\n",
      "Requirement already satisfied: charset-normalizer<4,>=2 in c:\\users\\texas\\anaconda3\\envs\\animatediff\\lib\\site-packages (from requests->huggingface-hub->timm) (3.3.2)\n",
      "Requirement already satisfied: idna<4,>=2.5 in c:\\users\\texas\\anaconda3\\envs\\animatediff\\lib\\site-packages (from requests->huggingface-hub->timm) (3.4)\n",
      "Requirement already satisfied: urllib3<3,>=1.21.1 in c:\\users\\texas\\anaconda3\\envs\\animatediff\\lib\\site-packages (from requests->huggingface-hub->timm) (2.1.0)\n",
      "Requirement already satisfied: certifi>=2017.4.17 in c:\\users\\texas\\anaconda3\\envs\\animatediff\\lib\\site-packages (from requests->huggingface-hub->timm) (2023.7.22)\n",
      "Requirement already satisfied: fairscale in c:\\users\\texas\\anaconda3\\envs\\animatediff\\lib\\site-packages (0.4.13)\n",
      "Requirement already satisfied: torch>=1.8.0 in c:\\users\\texas\\anaconda3\\envs\\animatediff\\lib\\site-packages (from fairscale) (1.13.1)\n",
      "Requirement already satisfied: numpy>=1.22.0 in c:\\users\\texas\\anaconda3\\envs\\animatediff\\lib\\site-packages (from fairscale) (1.26.0)\n",
      "Requirement already satisfied: typing_extensions in c:\\users\\texas\\anaconda3\\envs\\animatediff\\lib\\site-packages (from torch>=1.8.0->fairscale) (4.8.0)\n",
      "Requirement already satisfied: timm in c:\\users\\texas\\anaconda3\\envs\\animatediff\\lib\\site-packages (0.9.10)\n",
      "Requirement already satisfied: torch>=1.7 in c:\\users\\texas\\anaconda3\\envs\\animatediff\\lib\\site-packages (from timm) (1.13.1)\n",
      "Requirement already satisfied: torchvision in c:\\users\\texas\\anaconda3\\envs\\animatediff\\lib\\site-packages (from timm) (0.14.1)\n",
      "Requirement already satisfied: pyyaml in c:\\users\\texas\\anaconda3\\envs\\animatediff\\lib\\site-packages (from timm) (6.0.1)\n",
      "Requirement already satisfied: huggingface-hub in c:\\users\\texas\\anaconda3\\envs\\animatediff\\lib\\site-packages (from timm) (0.19.3)\n",
      "Requirement already satisfied: safetensors in c:\\users\\texas\\anaconda3\\envs\\animatediff\\lib\\site-packages (from timm) (0.4.0)\n",
      "Requirement already satisfied: typing_extensions in c:\\users\\texas\\anaconda3\\envs\\animatediff\\lib\\site-packages (from torch>=1.7->timm) (4.8.0)\n",
      "Requirement already satisfied: filelock in c:\\users\\texas\\anaconda3\\envs\\animatediff\\lib\\site-packages (from huggingface-hub->timm) (3.13.1)\n",
      "Requirement already satisfied: fsspec>=2023.5.0 in c:\\users\\texas\\anaconda3\\envs\\animatediff\\lib\\site-packages (from huggingface-hub->timm) (2023.10.0)\n",
      "Requirement already satisfied: requests in c:\\users\\texas\\anaconda3\\envs\\animatediff\\lib\\site-packages (from huggingface-hub->timm) (2.31.0)\n",
      "Requirement already satisfied: tqdm>=4.42.1 in c:\\users\\texas\\anaconda3\\envs\\animatediff\\lib\\site-packages (from huggingface-hub->timm) (4.66.1)\n",
      "Requirement already satisfied: packaging>=20.9 in c:\\users\\texas\\anaconda3\\envs\\animatediff\\lib\\site-packages (from huggingface-hub->timm) (23.2)\n",
      "Requirement already satisfied: numpy in c:\\users\\texas\\anaconda3\\envs\\animatediff\\lib\\site-packages (from torchvision->timm) (1.26.0)\n",
      "Requirement already satisfied: pillow!=8.3.*,>=5.3.0 in c:\\users\\texas\\anaconda3\\envs\\animatediff\\lib\\site-packages (from torchvision->timm) (10.1.0)\n",
      "Requirement already satisfied: colorama in c:\\users\\texas\\anaconda3\\envs\\animatediff\\lib\\site-packages (from tqdm>=4.42.1->huggingface-hub->timm) (0.4.6)\n",
      "Requirement already satisfied: charset-normalizer<4,>=2 in c:\\users\\texas\\anaconda3\\envs\\animatediff\\lib\\site-packages (from requests->huggingface-hub->timm) (3.3.2)\n",
      "Requirement already satisfied: idna<4,>=2.5 in c:\\users\\texas\\anaconda3\\envs\\animatediff\\lib\\site-packages (from requests->huggingface-hub->timm) (3.4)\n",
      "Requirement already satisfied: urllib3<3,>=1.21.1 in c:\\users\\texas\\anaconda3\\envs\\animatediff\\lib\\site-packages (from requests->huggingface-hub->timm) (2.1.0)\n",
      "Requirement already satisfied: certifi>=2017.4.17 in c:\\users\\texas\\anaconda3\\envs\\animatediff\\lib\\site-packages (from requests->huggingface-hub->timm) (2023.7.22)\n",
      "Requirement already satisfied: aiofiles in c:\\users\\texas\\anaconda3\\envs\\animatediff\\lib\\site-packages (23.2.1)\n",
      "Requirement already satisfied: aiohttp in c:\\users\\texas\\anaconda3\\envs\\animatediff\\lib\\site-packages (3.8.6)\n",
      "Requirement already satisfied: attrs>=17.3.0 in c:\\users\\texas\\anaconda3\\envs\\animatediff\\lib\\site-packages (from aiohttp) (23.1.0)\n",
      "Requirement already satisfied: charset-normalizer<4.0,>=2.0 in c:\\users\\texas\\anaconda3\\envs\\animatediff\\lib\\site-packages (from aiohttp) (3.3.2)\n",
      "Requirement already satisfied: multidict<7.0,>=4.5 in c:\\users\\texas\\anaconda3\\envs\\animatediff\\lib\\site-packages (from aiohttp) (6.0.4)\n",
      "Requirement already satisfied: async-timeout<5.0,>=4.0.0a3 in c:\\users\\texas\\anaconda3\\envs\\animatediff\\lib\\site-packages (from aiohttp) (4.0.3)\n",
      "Requirement already satisfied: yarl<2.0,>=1.0 in c:\\users\\texas\\anaconda3\\envs\\animatediff\\lib\\site-packages (from aiohttp) (1.9.2)\n",
      "Requirement already satisfied: frozenlist>=1.1.1 in c:\\users\\texas\\anaconda3\\envs\\animatediff\\lib\\site-packages (from aiohttp) (1.4.0)\n",
      "Requirement already satisfied: aiosignal>=1.1.2 in c:\\users\\texas\\anaconda3\\envs\\animatediff\\lib\\site-packages (from aiohttp) (1.3.1)\n",
      "Requirement already satisfied: idna>=2.0 in c:\\users\\texas\\anaconda3\\envs\\animatediff\\lib\\site-packages (from yarl<2.0,>=1.0->aiohttp) (3.4)\n",
      "Requirement already satisfied: opencv-python in c:\\users\\texas\\anaconda3\\envs\\animatediff\\lib\\site-packages (4.8.1.78)\n",
      "Requirement already satisfied: numpy>=1.21.2 in c:\\users\\texas\\anaconda3\\envs\\animatediff\\lib\\site-packages (from opencv-python) (1.26.0)\n"
     ]
    }
   ],
   "source": [
    "\n",
    "# install requirements\n",
    "# !pip install torch=='1.12.1+cu113' 'torchvision==0.13.1+cu113' --extra-index-url https://download.pytorch.org/whl/cu113\n",
    "!pip install pandas>='1.3.5'\n",
    "!git clone https://github.com/salesforce/BLIP scripts/BLIP\n",
    "!pip install timm\n",
    "!pip install fairscale\n",
    "# !pip install transformers=='4.19.2'\n",
    "!pip install timm\n",
    "!pip install aiofiles\n",
    "!pip install aiohttp\n",
    "!pip install opencv-python"
   ]
  },
  {
   "cell_type": "code",
   "execution_count": 3,
   "metadata": {},
   "outputs": [],
   "source": [
    "# !pip uninstall pillow\n",
    "# !pip install pillow"
   ]
  },
  {
   "cell_type": "code",
   "execution_count": 4,
   "metadata": {},
   "outputs": [
    {
     "name": "stdout",
     "output_type": "stream",
     "text": [
      "c:\\Users\\texas\\Desktop\\School\\SceneFusion\\AnimateDiff-SceneFusion\\data\n"
     ]
    }
   ],
   "source": [
    "%cd .."
   ]
  },
  {
   "cell_type": "code",
   "execution_count": 5,
   "metadata": {},
   "outputs": [
    {
     "name": "stdout",
     "output_type": "stream",
     "text": [
      " Volume in drive C is OS\n",
      " Volume Serial Number is 9C50-ADC8\n",
      "\n",
      " Directory of c:\\Users\\texas\\Desktop\\School\\SceneFusion\\AnimateDiff-SceneFusion\\data\n",
      "\n",
      "11/16/2023  02:50 PM    <DIR>          .\n",
      "11/16/2023  02:30 PM    <DIR>          ..\n",
      "11/15/2023  12:32 PM    <DIR>          .cache\n",
      "11/16/2023  02:52 PM            31,383 data.ipynb\n",
      "11/15/2023  12:27 PM    <DIR>          EveryDream\n",
      "11/15/2023  01:23 PM    <DIR>          output\n",
      "11/15/2023  01:57 PM               262 output.csv\n",
      "11/15/2023  11:56 AM    <DIR>          raw\n",
      "               2 File(s)         31,645 bytes\n",
      "               6 Dir(s)  170,972,418,048 bytes free\n"
     ]
    }
   ],
   "source": [
    "%ls"
   ]
  },
  {
   "cell_type": "code",
   "execution_count": 1,
   "metadata": {},
   "outputs": [],
   "source": [
    "# !python EveryDream/scripts/auto_caption.py --img_dir raw/1 --out_dir output "
   ]
  },
  {
   "cell_type": "code",
   "execution_count": 2,
   "metadata": {},
   "outputs": [
    {
     "name": "stderr",
     "output_type": "stream",
     "text": [
      "c:\\Users\\texas\\anaconda3\\envs\\animatediff\\lib\\site-packages\\tqdm\\auto.py:21: TqdmWarning: IProgress not found. Please update jupyter and ipywidgets. See https://ipywidgets.readthedocs.io/en/stable/user_install.html\n",
      "  from .autonotebook import tqdm as notebook_tqdm\n"
     ]
    }
   ],
   "source": [
    "from torchvision import transforms\n",
    "SIZE = 256"
   ]
  },
  {
   "cell_type": "code",
   "execution_count": 3,
   "metadata": {},
   "outputs": [],
   "source": [
    "def load_image(raw_image, device):\n",
    "    transform = transforms.Compose([\n",
    "        #transforms.CenterCrop(SIZE),\n",
    "        transforms.Resize((SIZE, SIZE), interpolation=InterpolationMode.BICUBIC),\n",
    "        transforms.ToTensor(),\n",
    "        transforms.Normalize((0.485, 0.456, 0.406), (0.229, 0.224, 0.225))\n",
    "    ])\n",
    "    image = transform(raw_image).unsqueeze(0).to(device)\n",
    "    return image"
   ]
  },
  {
   "cell_type": "code",
   "execution_count": 4,
   "metadata": {},
   "outputs": [
    {
     "name": "stdout",
     "output_type": "stream",
     "text": [
      "reshape position embedding from 576 to 256\n",
      "load checkpoint from .cache/model_base_caption_capfilt_large.pth\n",
      "loading model to cuda\n"
     ]
    }
   ],
   "source": [
    "import os\n",
    "import sys\n",
    "import torch\n",
    "import aiofiles\n",
    "import io\n",
    "\n",
    "if not os.path.exists(\"EveryDream/scripts/BLIP\"):\n",
    "    print(\"BLIP not found, cloning BLIP repo\")\n",
    "    subprocess.run([\"git\", \"clone\", \"https://github.com/salesforce/BLIP\", \"EveryDream/scripts/BLIP\"])\n",
    "blip_path = \"EveryDream/scripts/BLIP/\"\n",
    "sys.path.append(blip_path)\n",
    "\n",
    "import models.blip\n",
    "\n",
    "config_path = \"EveryDream/scripts/BLIP/configs/med_config.json\"\n",
    "\n",
    "cache_folder = \".cache\"\n",
    "model_cache_path = \".cache/model_base_caption_capfilt_large.pth\"\n",
    "\n",
    "blip_decoder = models.blip.blip_decoder(pretrained=model_cache_path, image_size=SIZE, vit='base', med_config=config_path)\n",
    "blip_decoder.eval()\n",
    "\n",
    "print(f\"loading model to cuda\")\n",
    "\n",
    "blip_decoder = blip_decoder.to(torch.device(\"cuda\"))\n",
    "    "
   ]
  },
  {
   "cell_type": "code",
   "execution_count": 1,
   "metadata": {},
   "outputs": [
    {
     "name": "stderr",
     "output_type": "stream",
     "text": [
      "c:\\Users\\texas\\anaconda3\\envs\\animatediff\\lib\\site-packages\\tqdm\\auto.py:21: TqdmWarning: IProgress not found. Please update jupyter and ipywidgets. See https://ipywidgets.readthedocs.io/en/stable/user_install.html\n",
      "  from .autonotebook import tqdm as notebook_tqdm\n"
     ]
    },
    {
     "ename": "NameError",
     "evalue": "name 'os' is not defined",
     "output_type": "error",
     "traceback": [
      "\u001b[1;31m---------------------------------------------------------------------------\u001b[0m",
      "\u001b[1;31mNameError\u001b[0m                                 Traceback (most recent call last)",
      "\u001b[1;32mc:\\Users\\texas\\Desktop\\School\\SceneFusion\\AnimateDiff-SceneFusion\\data\\data.ipynb Cell 10\u001b[0m line \u001b[0;36m7\n\u001b[0;32m      <a href='vscode-notebook-cell:/c%3A/Users/texas/Desktop/School/SceneFusion/AnimateDiff-SceneFusion/data/data.ipynb#X12sZmlsZQ%3D%3D?line=2'>3</a>\u001b[0m \u001b[39mimport\u001b[39;00m \u001b[39mcv2\u001b[39;00m\n\u001b[0;32m      <a href='vscode-notebook-cell:/c%3A/Users/texas/Desktop/School/SceneFusion/AnimateDiff-SceneFusion/data/data.ipynb#X12sZmlsZQ%3D%3D?line=4'>5</a>\u001b[0m \u001b[39m# testing = True\u001b[39;00m\n\u001b[1;32m----> <a href='vscode-notebook-cell:/c%3A/Users/texas/Desktop/School/SceneFusion/AnimateDiff-SceneFusion/data/data.ipynb#X12sZmlsZQ%3D%3D?line=6'>7</a>\u001b[0m count \u001b[39m=\u001b[39m os\u001b[39m.\u001b[39mlistdir(\u001b[39mf\u001b[39m\u001b[39m'\u001b[39m\u001b[39mraw\u001b[39m\u001b[39m'\u001b[39m)\n\u001b[0;32m      <a href='vscode-notebook-cell:/c%3A/Users/texas/Desktop/School/SceneFusion/AnimateDiff-SceneFusion/data/data.ipynb#X12sZmlsZQ%3D%3D?line=7'>8</a>\u001b[0m \u001b[39mprint\u001b[39m(count)\n\u001b[0;32m      <a href='vscode-notebook-cell:/c%3A/Users/texas/Desktop/School/SceneFusion/AnimateDiff-SceneFusion/data/data.ipynb#X12sZmlsZQ%3D%3D?line=8'>9</a>\u001b[0m minFileCount \u001b[39m=\u001b[39m \u001b[39m1000\u001b[39m\n",
      "\u001b[1;31mNameError\u001b[0m: name 'os' is not defined"
     ]
    }
   ],
   "source": [
    "from PIL import Image\n",
    "from torchvision.transforms.functional import InterpolationMode\n",
    "import cv2\n",
    "\n",
    "testing = False\n",
    "\n",
    "count = os.listdir(f'raw')\n",
    "print(count)\n",
    "minFileCount = 1000\n",
    "folder = 1\n",
    "\n",
    "# create csv file\n",
    "import pandas as pd\n",
    "df = pd.DataFrame(columns=['videoid', 'name', 'page_dir'])\n",
    "\n",
    "!rm -rf output\n",
    "\n",
    "for i,dirname in enumerate(count):\n",
    "    # get list of images from raw/{i} folder\n",
    "    images = os.listdir(f'raw/{dirname}')\n",
    "    \n",
    "    if len(images) < minFileCount:\n",
    "        minFileCount = len(images)\n",
    "        folder = dirname\n",
    "    \n",
    "    # rename images to 1.jpg, 2.jpg, 3.jpg, etc\n",
    "    for j in range(len(images)):\n",
    "        os.rename(f'raw/{dirname}/{images[j]}', f'raw/{dirname}/{j}.png')\n",
    "        images[j] = f'raw/{dirname}/{j}.png'\n",
    "    \n",
    "    img_file_name = images[0]\n",
    "    \n",
    "    async with aiofiles.open(img_file_name, \"rb\") as input_file:\n",
    "        print(\"working image: \", img_file_name)\n",
    "\n",
    "        image_bin = await input_file.read()\n",
    "        image = Image.open(io.BytesIO(image_bin))\n",
    "\n",
    "        if not image.mode == \"RGB\":\n",
    "            image = image.convert(\"RGB\")\n",
    "\n",
    "        image = load_image(image, device=torch.device(\"cuda\"))\n",
    "        # caption the image\n",
    "        captions = blip_decoder.generate(image, sample=False, num_beams=16, min_length=22, max_length=48, repetition_penalty=1.0)\n",
    "        \n",
    "        isRightToLeft = dirname.endswith(\"RL\")\n",
    "        \n",
    "        if isRightToLeft:\n",
    "            caption = \"camera panning right to left, \" + captions[0]\n",
    "        else:\n",
    "            caption = \"camera panning left to right, \" + captions[0]\n",
    "        # save caption as name to csv file\n",
    "        df.loc[len(df)] = [i, caption, f'raw/{dirname}']\n",
    "        \n",
    "        # print(caption)\n",
    "        \n",
    "        # turn images into video\n",
    "        # Get the images\n",
    "        images = [cv2.imread(image_path) for image_path in images]\n",
    "        # crop image to center square shape using the shortest side\n",
    "        images = [image[:, int((image.shape[1] - image.shape[0]) / 2):int((image.shape[1] + image.shape[0]) / 2)] for image in images]\n",
    "        # resize images to 256x256\n",
    "        images = [cv2.resize(image, (256, 256)) for image in images]\n",
    "        \n",
    "        !rm -rf output\\tmp\n",
    "        !mkdir output\\tmp\n",
    "        \n",
    "        # save frames to output/tmp folder for debugging\n",
    "        for j,image in enumerate(images):\n",
    "            cv2.imwrite(f'output/tmp/{j}.png', image)\n",
    "        \n",
    "        \n",
    "        \n",
    "        !ffmpeg -r 1 -i output/tmp/%d.png -c:v libx264 -vf fps=1 output/{i}.mp4\n",
    "        \n",
    "\n",
    "        # # Create a video writer\n",
    "        # video_writer = cv2.VideoWriter(f'output/{i}.mp4', cv2.VideoWriter_fourcc(*'MP4V'), 1, (256, 256))\n",
    "        \n",
    "        # # fix moov atom not found error\n",
    "        # # https://stackoverflow.com/questions/30140432/how-to-fix-moov-atom-not-found\n",
    "\n",
    "        # # Write the images to the video writer\n",
    "        # for image in images:\n",
    "        #     video_writer.write(image)\n",
    "            \n",
    "            \n",
    "        # # Close the writer\n",
    "        # video_writer.release()\n",
    "        \n",
    "            \n",
    "        if testing and i > 11:\n",
    "            break\n",
    "            \n",
    "print(\"minFileCount: \", minFileCount)\n",
    "            \n",
    "# save csv file\n",
    "df.to_csv('output.csv', index=False)"
   ]
  },
  {
   "cell_type": "code",
   "execution_count": 6,
   "metadata": {},
   "outputs": [
    {
     "name": "stderr",
     "output_type": "stream",
     "text": [
      "ffmpeg version N-110126-g4d216654ca-20230330 Copyright (c) 2000-2023 the FFmpeg developers\n",
      "  built with gcc 12.2.0 (crosstool-NG 1.25.0.152_89671bf)\n",
      "  configuration: --prefix=/ffbuild/prefix --pkg-config-flags=--static --pkg-config=pkg-config --cross-prefix=x86_64-w64-mingw32- --arch=x86_64 --target-os=mingw32 --enable-gpl --enable-version3 --disable-debug --disable-w32threads --enable-pthreads --enable-iconv --enable-libxml2 --enable-zlib --enable-libfreetype --enable-libfribidi --enable-gmp --enable-lzma --enable-fontconfig --enable-libvorbis --enable-opencl --disable-libpulse --enable-libvmaf --disable-libxcb --disable-xlib --enable-amf --enable-libaom --enable-libaribb24 --enable-avisynth --enable-chromaprint --enable-libdav1d --enable-libdavs2 --disable-libfdk-aac --enable-ffnvcodec --enable-cuda-llvm --enable-frei0r --enable-libgme --enable-libkvazaar --enable-libass --enable-libbluray --enable-libjxl --enable-libmp3lame --enable-libopus --enable-librist --enable-libssh --enable-libtheora --enable-libvpx --enable-libwebp --enable-lv2 --disable-libmfx --enable-libvpl --enable-openal --enable-libopencore-amrnb --enable-libopencore-amrwb --enable-libopenh264 --enable-libopenjpeg --enable-libopenmpt --enable-librav1e --enable-librubberband --enable-schannel --enable-sdl2 --enable-libsoxr --enable-libsrt --enable-libsvtav1 --enable-libtwolame --enable-libuavs3d --disable-libdrm --disable-vaapi --enable-libvidstab --enable-vulkan --enable-libshaderc --enable-libplacebo --enable-libx264 --enable-libx265 --enable-libxavs2 --enable-libxvid --enable-libzimg --enable-libzvbi --extra-cflags=-DLIBTWOLAME_STATIC --extra-cxxflags= --extra-ldflags=-pthread --extra-ldexeflags= --extra-libs=-lgomp --extra-version=20230330\n",
      "  libavutil      58.  5.100 / 58.  5.100\n",
      "  libavcodec     60.  7.100 / 60.  7.100\n",
      "  libavformat    60.  4.101 / 60.  4.101\n",
      "  libavdevice    60.  2.100 / 60.  2.100\n",
      "  libavfilter     9.  5.100 /  9.  5.100\n",
      "  libswscale      7.  2.100 /  7.  2.100\n",
      "  libswresample   4. 11.100 /  4. 11.100\n",
      "  libpostproc    57.  2.100 / 57.  2.100\n",
      "Input #0, mov,mp4,m4a,3gp,3g2,mj2, from 'output/0.mp4':\n",
      "  Metadata:\n",
      "    major_brand     : isom\n",
      "    minor_version   : 512\n",
      "    compatible_brands: isomiso2avc1mp41\n",
      "    encoder         : Lavf60.4.101\n",
      "  Duration: 00:00:06.00, start: 0.000000, bitrate: 169 kb/s\n",
      "  Stream #0:0[0x1](und): Video: h264 (High 4:4:4 Predictive) (avc1 / 0x31637661), yuv444p(progressive), 256x256, 168 kb/s, 1 fps, 1 tbr, 16384 tbn (default)\n",
      "    Metadata:\n",
      "      handler_name    : VideoHandler\n",
      "      vendor_id       : [0][0][0][0]\n",
      "      encoder         : Lavc60.7.100 libx264\n",
      "At least one output file must be specified\n"
     ]
    }
   ],
   "source": [
    "!ffmpeg -i output/0.mp4"
   ]
  }
 ],
 "metadata": {
  "kernelspec": {
   "display_name": "animatediff",
   "language": "python",
   "name": "python3"
  },
  "language_info": {
   "codemirror_mode": {
    "name": "ipython",
    "version": 3
   },
   "file_extension": ".py",
   "mimetype": "text/x-python",
   "name": "python",
   "nbconvert_exporter": "python",
   "pygments_lexer": "ipython3",
   "version": "3.10.13"
  }
 },
 "nbformat": 4,
 "nbformat_minor": 2
}
