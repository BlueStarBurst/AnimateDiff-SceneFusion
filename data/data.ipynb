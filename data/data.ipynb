{
 "cells": [
  {
   "cell_type": "code",
   "execution_count": 1,
   "metadata": {},
   "outputs": [
    {
     "name": "stdout",
     "output_type": "stream",
     "text": [
      "c:\\Users\\texas\\Desktop\\School\\SceneFusion\\AnimateDiff-SceneFusion\\data\\EveryDream\n"
     ]
    },
    {
     "name": "stderr",
     "output_type": "stream",
     "text": [
      "fatal: destination path 'EveryDream' already exists and is not an empty directory.\n"
     ]
    }
   ],
   "source": [
    "#download repo\n",
    "!git clone https://github.com/victorchall/EveryDream.git\n",
    "# Set working directory\n",
    "%cd EveryDream"
   ]
  },
  {
   "cell_type": "code",
   "execution_count": 2,
   "metadata": {},
   "outputs": [
    {
     "name": "stderr",
     "output_type": "stream",
     "text": [
      "fatal: destination path 'scripts/BLIP' already exists and is not an empty directory.\n"
     ]
    },
    {
     "name": "stdout",
     "output_type": "stream",
     "text": [
      "Requirement already satisfied: timm in c:\\users\\texas\\anaconda3\\envs\\animatediff\\lib\\site-packages (0.9.10)\n",
      "Requirement already satisfied: torch>=1.7 in c:\\users\\texas\\anaconda3\\envs\\animatediff\\lib\\site-packages (from timm) (1.13.1)\n",
      "Requirement already satisfied: torchvision in c:\\users\\texas\\anaconda3\\envs\\animatediff\\lib\\site-packages (from timm) (0.14.1)\n",
      "Requirement already satisfied: pyyaml in c:\\users\\texas\\anaconda3\\envs\\animatediff\\lib\\site-packages (from timm) (6.0.1)\n",
      "Requirement already satisfied: huggingface-hub in c:\\users\\texas\\anaconda3\\envs\\animatediff\\lib\\site-packages (from timm) (0.19.3)\n",
      "Requirement already satisfied: safetensors in c:\\users\\texas\\anaconda3\\envs\\animatediff\\lib\\site-packages (from timm) (0.4.0)\n",
      "Requirement already satisfied: typing_extensions in c:\\users\\texas\\anaconda3\\envs\\animatediff\\lib\\site-packages (from torch>=1.7->timm) (4.8.0)\n",
      "Requirement already satisfied: filelock in c:\\users\\texas\\anaconda3\\envs\\animatediff\\lib\\site-packages (from huggingface-hub->timm) (3.13.1)\n",
      "Requirement already satisfied: fsspec>=2023.5.0 in c:\\users\\texas\\anaconda3\\envs\\animatediff\\lib\\site-packages (from huggingface-hub->timm) (2023.10.0)\n",
      "Requirement already satisfied: requests in c:\\users\\texas\\anaconda3\\envs\\animatediff\\lib\\site-packages (from huggingface-hub->timm) (2.31.0)\n",
      "Requirement already satisfied: tqdm>=4.42.1 in c:\\users\\texas\\anaconda3\\envs\\animatediff\\lib\\site-packages (from huggingface-hub->timm) (4.66.1)\n",
      "Requirement already satisfied: packaging>=20.9 in c:\\users\\texas\\anaconda3\\envs\\animatediff\\lib\\site-packages (from huggingface-hub->timm) (23.2)\n",
      "Requirement already satisfied: numpy in c:\\users\\texas\\anaconda3\\envs\\animatediff\\lib\\site-packages (from torchvision->timm) (1.26.0)\n",
      "Requirement already satisfied: pillow!=8.3.*,>=5.3.0 in c:\\users\\texas\\anaconda3\\envs\\animatediff\\lib\\site-packages (from torchvision->timm) (10.1.0)\n",
      "Requirement already satisfied: colorama in c:\\users\\texas\\anaconda3\\envs\\animatediff\\lib\\site-packages (from tqdm>=4.42.1->huggingface-hub->timm) (0.4.6)\n",
      "Requirement already satisfied: charset-normalizer<4,>=2 in c:\\users\\texas\\anaconda3\\envs\\animatediff\\lib\\site-packages (from requests->huggingface-hub->timm) (3.3.2)\n",
      "Requirement already satisfied: idna<4,>=2.5 in c:\\users\\texas\\anaconda3\\envs\\animatediff\\lib\\site-packages (from requests->huggingface-hub->timm) (3.4)\n",
      "Requirement already satisfied: urllib3<3,>=1.21.1 in c:\\users\\texas\\anaconda3\\envs\\animatediff\\lib\\site-packages (from requests->huggingface-hub->timm) (2.1.0)\n",
      "Requirement already satisfied: certifi>=2017.4.17 in c:\\users\\texas\\anaconda3\\envs\\animatediff\\lib\\site-packages (from requests->huggingface-hub->timm) (2023.7.22)\n",
      "Requirement already satisfied: fairscale in c:\\users\\texas\\anaconda3\\envs\\animatediff\\lib\\site-packages (0.4.13)\n",
      "Requirement already satisfied: torch>=1.8.0 in c:\\users\\texas\\anaconda3\\envs\\animatediff\\lib\\site-packages (from fairscale) (1.13.1)\n",
      "Requirement already satisfied: numpy>=1.22.0 in c:\\users\\texas\\anaconda3\\envs\\animatediff\\lib\\site-packages (from fairscale) (1.26.0)\n",
      "Requirement already satisfied: typing_extensions in c:\\users\\texas\\anaconda3\\envs\\animatediff\\lib\\site-packages (from torch>=1.8.0->fairscale) (4.8.0)\n",
      "Requirement already satisfied: timm in c:\\users\\texas\\anaconda3\\envs\\animatediff\\lib\\site-packages (0.9.10)\n",
      "Requirement already satisfied: torch>=1.7 in c:\\users\\texas\\anaconda3\\envs\\animatediff\\lib\\site-packages (from timm) (1.13.1)\n",
      "Requirement already satisfied: torchvision in c:\\users\\texas\\anaconda3\\envs\\animatediff\\lib\\site-packages (from timm) (0.14.1)\n",
      "Requirement already satisfied: pyyaml in c:\\users\\texas\\anaconda3\\envs\\animatediff\\lib\\site-packages (from timm) (6.0.1)\n",
      "Requirement already satisfied: huggingface-hub in c:\\users\\texas\\anaconda3\\envs\\animatediff\\lib\\site-packages (from timm) (0.19.3)\n",
      "Requirement already satisfied: safetensors in c:\\users\\texas\\anaconda3\\envs\\animatediff\\lib\\site-packages (from timm) (0.4.0)\n",
      "Requirement already satisfied: typing_extensions in c:\\users\\texas\\anaconda3\\envs\\animatediff\\lib\\site-packages (from torch>=1.7->timm) (4.8.0)\n",
      "Requirement already satisfied: filelock in c:\\users\\texas\\anaconda3\\envs\\animatediff\\lib\\site-packages (from huggingface-hub->timm) (3.13.1)\n",
      "Requirement already satisfied: fsspec>=2023.5.0 in c:\\users\\texas\\anaconda3\\envs\\animatediff\\lib\\site-packages (from huggingface-hub->timm) (2023.10.0)\n",
      "Requirement already satisfied: requests in c:\\users\\texas\\anaconda3\\envs\\animatediff\\lib\\site-packages (from huggingface-hub->timm) (2.31.0)\n",
      "Requirement already satisfied: tqdm>=4.42.1 in c:\\users\\texas\\anaconda3\\envs\\animatediff\\lib\\site-packages (from huggingface-hub->timm) (4.66.1)\n",
      "Requirement already satisfied: packaging>=20.9 in c:\\users\\texas\\anaconda3\\envs\\animatediff\\lib\\site-packages (from huggingface-hub->timm) (23.2)\n",
      "Requirement already satisfied: numpy in c:\\users\\texas\\anaconda3\\envs\\animatediff\\lib\\site-packages (from torchvision->timm) (1.26.0)\n",
      "Requirement already satisfied: pillow!=8.3.*,>=5.3.0 in c:\\users\\texas\\anaconda3\\envs\\animatediff\\lib\\site-packages (from torchvision->timm) (10.1.0)\n",
      "Requirement already satisfied: colorama in c:\\users\\texas\\anaconda3\\envs\\animatediff\\lib\\site-packages (from tqdm>=4.42.1->huggingface-hub->timm) (0.4.6)\n",
      "Requirement already satisfied: charset-normalizer<4,>=2 in c:\\users\\texas\\anaconda3\\envs\\animatediff\\lib\\site-packages (from requests->huggingface-hub->timm) (3.3.2)\n",
      "Requirement already satisfied: idna<4,>=2.5 in c:\\users\\texas\\anaconda3\\envs\\animatediff\\lib\\site-packages (from requests->huggingface-hub->timm) (3.4)\n",
      "Requirement already satisfied: urllib3<3,>=1.21.1 in c:\\users\\texas\\anaconda3\\envs\\animatediff\\lib\\site-packages (from requests->huggingface-hub->timm) (2.1.0)\n",
      "Requirement already satisfied: certifi>=2017.4.17 in c:\\users\\texas\\anaconda3\\envs\\animatediff\\lib\\site-packages (from requests->huggingface-hub->timm) (2023.7.22)\n",
      "Requirement already satisfied: aiofiles in c:\\users\\texas\\anaconda3\\envs\\animatediff\\lib\\site-packages (23.2.1)\n",
      "Requirement already satisfied: aiohttp in c:\\users\\texas\\anaconda3\\envs\\animatediff\\lib\\site-packages (3.8.6)\n",
      "Requirement already satisfied: attrs>=17.3.0 in c:\\users\\texas\\anaconda3\\envs\\animatediff\\lib\\site-packages (from aiohttp) (23.1.0)\n",
      "Requirement already satisfied: charset-normalizer<4.0,>=2.0 in c:\\users\\texas\\anaconda3\\envs\\animatediff\\lib\\site-packages (from aiohttp) (3.3.2)\n",
      "Requirement already satisfied: multidict<7.0,>=4.5 in c:\\users\\texas\\anaconda3\\envs\\animatediff\\lib\\site-packages (from aiohttp) (6.0.4)\n",
      "Requirement already satisfied: async-timeout<5.0,>=4.0.0a3 in c:\\users\\texas\\anaconda3\\envs\\animatediff\\lib\\site-packages (from aiohttp) (4.0.3)\n",
      "Requirement already satisfied: yarl<2.0,>=1.0 in c:\\users\\texas\\anaconda3\\envs\\animatediff\\lib\\site-packages (from aiohttp) (1.9.2)\n",
      "Requirement already satisfied: frozenlist>=1.1.1 in c:\\users\\texas\\anaconda3\\envs\\animatediff\\lib\\site-packages (from aiohttp) (1.4.0)\n",
      "Requirement already satisfied: aiosignal>=1.1.2 in c:\\users\\texas\\anaconda3\\envs\\animatediff\\lib\\site-packages (from aiohttp) (1.3.1)\n",
      "Requirement already satisfied: idna>=2.0 in c:\\users\\texas\\anaconda3\\envs\\animatediff\\lib\\site-packages (from yarl<2.0,>=1.0->aiohttp) (3.4)\n",
      "Requirement already satisfied: opencv-python in c:\\users\\texas\\anaconda3\\envs\\animatediff\\lib\\site-packages (4.8.1.78)\n",
      "Requirement already satisfied: numpy>=1.21.2 in c:\\users\\texas\\anaconda3\\envs\\animatediff\\lib\\site-packages (from opencv-python) (1.26.0)\n"
     ]
    }
   ],
   "source": [
    "\n",
    "# install requirements\n",
    "# !pip install torch=='1.12.1+cu113' 'torchvision==0.13.1+cu113' --extra-index-url https://download.pytorch.org/whl/cu113\n",
    "!pip install pandas>='1.3.5'\n",
    "!git clone https://github.com/salesforce/BLIP scripts/BLIP\n",
    "!pip install timm\n",
    "!pip install fairscale\n",
    "# !pip install transformers=='4.19.2'\n",
    "!pip install timm\n",
    "!pip install aiofiles\n",
    "!pip install aiohttp\n",
    "!pip install opencv-python"
   ]
  },
  {
   "cell_type": "code",
   "execution_count": 3,
   "metadata": {},
   "outputs": [],
   "source": [
    "# !pip uninstall pillow\n",
    "# !pip install pillow"
   ]
  },
  {
   "cell_type": "code",
   "execution_count": 4,
   "metadata": {},
   "outputs": [
    {
     "name": "stdout",
     "output_type": "stream",
     "text": [
      "c:\\Users\\texas\\Desktop\\School\\SceneFusion\\AnimateDiff-SceneFusion\\data\n"
     ]
    }
   ],
   "source": [
    "%cd .."
   ]
  },
  {
   "cell_type": "code",
   "execution_count": 5,
   "metadata": {},
   "outputs": [
    {
     "name": "stdout",
     "output_type": "stream",
     "text": [
      " Volume in drive C is OS\n",
      " Volume Serial Number is 9C50-ADC8\n",
      "\n",
      " Directory of c:\\Users\\texas\\Desktop\\School\\SceneFusion\\AnimateDiff-SceneFusion\\data\n",
      "\n",
      "11/16/2023  02:50 PM    <DIR>          .\n",
      "11/16/2023  02:30 PM    <DIR>          ..\n",
      "11/15/2023  12:32 PM    <DIR>          .cache\n",
      "11/16/2023  02:52 PM            31,383 data.ipynb\n",
      "11/15/2023  12:27 PM    <DIR>          EveryDream\n",
      "11/15/2023  01:23 PM    <DIR>          output\n",
      "11/15/2023  01:57 PM               262 output.csv\n",
      "11/15/2023  11:56 AM    <DIR>          raw\n",
      "               2 File(s)         31,645 bytes\n",
      "               6 Dir(s)  170,972,418,048 bytes free\n"
     ]
    }
   ],
   "source": [
    "%ls"
   ]
  },
  {
   "cell_type": "code",
   "execution_count": 3,
   "metadata": {},
   "outputs": [],
   "source": [
    "# !python EveryDream/scripts/auto_caption.py --img_dir raw/1 --out_dir output "
   ]
  },
  {
   "cell_type": "code",
   "execution_count": 4,
   "metadata": {},
   "outputs": [],
   "source": [
    "from torchvision import transforms\n",
    "SIZE = 256"
   ]
  },
  {
   "cell_type": "code",
   "execution_count": 5,
   "metadata": {},
   "outputs": [],
   "source": [
    "def load_image(raw_image, device):\n",
    "    transform = transforms.Compose([\n",
    "        #transforms.CenterCrop(SIZE),\n",
    "        transforms.Resize((SIZE, SIZE), interpolation=InterpolationMode.BICUBIC),\n",
    "        transforms.ToTensor(),\n",
    "        transforms.Normalize((0.485, 0.456, 0.406), (0.229, 0.224, 0.225))\n",
    "    ])\n",
    "    image = transform(raw_image).unsqueeze(0).to(device)\n",
    "    return image"
   ]
  },
  {
   "cell_type": "code",
   "execution_count": 6,
   "metadata": {},
   "outputs": [
    {
     "name": "stdout",
     "output_type": "stream",
     "text": [
      "reshape position embedding from 576 to 256\n",
      "load checkpoint from .cache/model_base_caption_capfilt_large.pth\n",
      "loading model to cuda\n"
     ]
    }
   ],
   "source": [
    "import os\n",
    "import sys\n",
    "import torch\n",
    "import aiofiles\n",
    "import io\n",
    "\n",
    "if not os.path.exists(\"EveryDream/scripts/BLIP\"):\n",
    "    print(\"BLIP not found, cloning BLIP repo\")\n",
    "    subprocess.run([\"git\", \"clone\", \"https://github.com/salesforce/BLIP\", \"EveryDream/scripts/BLIP\"])\n",
    "blip_path = \"EveryDream/scripts/BLIP/\"\n",
    "sys.path.append(blip_path)\n",
    "\n",
    "import models.blip\n",
    "\n",
    "config_path = \"EveryDream/scripts/BLIP/configs/med_config.json\"\n",
    "\n",
    "cache_folder = \".cache\"\n",
    "model_cache_path = \".cache/model_base_caption_capfilt_large.pth\"\n",
    "\n",
    "blip_decoder = models.blip.blip_decoder(pretrained=model_cache_path, image_size=SIZE, vit='base', med_config=config_path)\n",
    "blip_decoder.eval()\n",
    "\n",
    "print(f\"loading model to cuda\")\n",
    "\n",
    "blip_decoder = blip_decoder.to(torch.device(\"cuda\"))\n",
    "    "
   ]
  },
  {
   "cell_type": "code",
   "execution_count": 8,
   "metadata": {},
   "outputs": [
    {
     "name": "stdout",
     "output_type": "stream",
     "text": [
      "['3dDS10', '3dDS11', '3dDS12', '3dDS13', '3dDS14RL', '3dDS15', '3dDS16', '3dDS17', '3dDS18', '3dDS19', '3dDS1RL', '3dDS20', '3dDS21', '3dDS22', '3dDS23', '3dDS24', '3dDS25', '3dDS26', '3dDS27', '3dDS28', '3dDS29', '3dDS2RL', '3dDS30', '3dDS31', '3dDS32', '3dDS33', '3dDS34', '3dDS35', '3dDS36', '3dDS3LR', '3dDS4', '3dDS5', '3dDS6', '3dDS7RL', '3dDS8RL', '3dDS9']\n",
      "working image:  raw/3dDS10/0.png\n"
     ]
    },
    {
     "name": "stderr",
     "output_type": "stream",
     "text": [
      "ffmpeg version N-110126-g4d216654ca-20230330 Copyright (c) 2000-2023 the FFmpeg developers\n",
      "  built with gcc 12.2.0 (crosstool-NG 1.25.0.152_89671bf)\n",
      "  configuration: --prefix=/ffbuild/prefix --pkg-config-flags=--static --pkg-config=pkg-config --cross-prefix=x86_64-w64-mingw32- --arch=x86_64 --target-os=mingw32 --enable-gpl --enable-version3 --disable-debug --disable-w32threads --enable-pthreads --enable-iconv --enable-libxml2 --enable-zlib --enable-libfreetype --enable-libfribidi --enable-gmp --enable-lzma --enable-fontconfig --enable-libvorbis --enable-opencl --disable-libpulse --enable-libvmaf --disable-libxcb --disable-xlib --enable-amf --enable-libaom --enable-libaribb24 --enable-avisynth --enable-chromaprint --enable-libdav1d --enable-libdavs2 --disable-libfdk-aac --enable-ffnvcodec --enable-cuda-llvm --enable-frei0r --enable-libgme --enable-libkvazaar --enable-libass --enable-libbluray --enable-libjxl --enable-libmp3lame --enable-libopus --enable-librist --enable-libssh --enable-libtheora --enable-libvpx --enable-libwebp --enable-lv2 --disable-libmfx --enable-libvpl --enable-openal --enable-libopencore-amrnb --enable-libopencore-amrwb --enable-libopenh264 --enable-libopenjpeg --enable-libopenmpt --enable-librav1e --enable-librubberband --enable-schannel --enable-sdl2 --enable-libsoxr --enable-libsrt --enable-libsvtav1 --enable-libtwolame --enable-libuavs3d --disable-libdrm --disable-vaapi --enable-libvidstab --enable-vulkan --enable-libshaderc --enable-libplacebo --enable-libx264 --enable-libx265 --enable-libxavs2 --enable-libxvid --enable-libzimg --enable-libzvbi --extra-cflags=-DLIBTWOLAME_STATIC --extra-cxxflags= --extra-ldflags=-pthread --extra-ldexeflags= --extra-libs=-lgomp --extra-version=20230330\n",
      "  libavutil      58.  5.100 / 58.  5.100\n",
      "  libavcodec     60.  7.100 / 60.  7.100\n",
      "  libavformat    60.  4.101 / 60.  4.101\n",
      "  libavdevice    60.  2.100 / 60.  2.100\n",
      "  libavfilter     9.  5.100 /  9.  5.100\n",
      "  libswscale      7.  2.100 /  7.  2.100\n",
      "  libswresample   4. 11.100 /  4. 11.100\n",
      "  libpostproc    57.  2.100 / 57.  2.100\n",
      "Input #0, image2, from 'output/tmp/%d.png':\n",
      "  Duration: 00:00:00.20, start: 0.000000, bitrate: N/A\n",
      "  Stream #0:0: Video: png, rgb24(pc, gbr/unknown/unknown), 256x256, 25 fps, 25 tbr, 25 tbn\n",
      "Stream mapping:\n",
      "  Stream #0:0 -> #0:0 (png (native) -> h264 (libx264))\n",
      "Press [q] to stop, [?] for help\n",
      "[libx264 @ 0000029c21a42480] using cpu capabilities: MMX2 SSE2Fast SSSE3 SSE4.2 AVX FMA3 BMI2 AVX2 AVX512\n",
      "[libx264 @ 0000029c21a42480] profile High 4:4:4 Predictive, level 1.2, 4:4:4, 8-bit\n",
      "[libx264 @ 0000029c21a42480] 264 - core 164 - H.264/MPEG-4 AVC codec - Copyleft 2003-2023 - http://www.videolan.org/x264.html - options: cabac=1 ref=3 deblock=1:0:0 analyse=0x3:0x113 me=hex subme=7 psy=1 psy_rd=1.00:0.00 mixed_ref=1 me_range=16 chroma_me=1 trellis=1 8x8dct=1 cqm=0 deadzone=21,11 fast_pskip=1 chroma_qp_offset=4 threads=8 lookahead_threads=1 sliced_threads=0 nr=0 decimate=1 interlaced=0 bluray_compat=0 constrained_intra=0 bframes=3 b_pyramid=2 b_adapt=1 b_bias=0 direct=1 weightb=1 open_gop=0 weightp=2 keyint=250 keyint_min=1 scenecut=40 intra_refresh=0 rc_lookahead=40 rc=crf mbtree=1 crf=23.0 qcomp=0.60 qpmin=0 qpmax=69 qpstep=4 ip_ratio=1.40 aq=1:1.00\n",
      "Output #0, mp4, to 'output/0.mp4':\n",
      "  Metadata:\n",
      "    encoder         : Lavf60.4.101\n",
      "  Stream #0:0: Video: h264 (avc1 / 0x31637661), yuv444p(tv, progressive), 256x256, q=2-31, 1 fps, 16384 tbn\n",
      "    Metadata:\n",
      "      encoder         : Lavc60.7.100 libx264\n",
      "    Side data:\n",
      "      cpb: bitrate max/min/avg: 0/0/0 buffer size: 0 vbv_delay: N/A\n",
      "frame=    0 fps=0.0 q=0.0 size=       0kB time=-577014:32:22.77 bitrate=  -0.0kbits/s speed=N/A    \n",
      "frame=    5 fps=0.0 q=-1.0 Lsize=     107kB time=00:00:02.00 bitrate= 439.1kbits/s speed=48.4x    \n",
      "video:106kB audio:0kB subtitle:0kB other streams:0kB global headers:0kB muxing overhead: 0.813598%\n",
      "[libx264 @ 0000029c21a42480] frame I:1     Avg QP:18.36  size: 22667\n",
      "[libx264 @ 0000029c21a42480] frame P:4     Avg QP:18.82  size: 21390\n",
      "[libx264 @ 0000029c21a42480] mb I  I16..4:  0.4% 25.0% 74.6%\n",
      "[libx264 @ 0000029c21a42480] mb P  I16..4:  0.4% 12.0% 36.4%  P16..4:  6.2% 26.1% 18.8%  0.0%  0.0%    skip: 0.1%\n",
      "[libx264 @ 0000029c21a42480] 8x8 transform intra:24.7% inter:19.7%\n",
      "[libx264 @ 0000029c21a42480] coded y,u,v intra: 98.5% 81.5% 71.9% inter: 95.8% 29.7% 20.0%\n",
      "[libx264 @ 0000029c21a42480] i16 v,h,dc,p:  0% 40%  0% 60%\n",
      "[libx264 @ 0000029c21a42480] i8 v,h,dc,ddl,ddr,vr,hd,vl,hu: 22% 26% 16%  4%  4%  4%  9%  4% 12%\n",
      "[libx264 @ 0000029c21a42480] i4 v,h,dc,ddl,ddr,vr,hd,vl,hu: 26% 21% 10%  6%  6%  5%  9%  6% 12%\n",
      "[libx264 @ 0000029c21a42480] Weighted P-Frames: Y:0.0% UV:0.0%\n",
      "[libx264 @ 0000029c21a42480] ref P L0: 75.8% 22.8%  1.1%  0.4%\n",
      "[libx264 @ 0000029c21a42480] kb/s:173.16\n"
     ]
    },
    {
     "name": "stdout",
     "output_type": "stream",
     "text": [
      "working image:  raw/3dDS11/0.png\n"
     ]
    },
    {
     "name": "stderr",
     "output_type": "stream",
     "text": [
      "ffmpeg version N-110126-g4d216654ca-20230330 Copyright (c) 2000-2023 the FFmpeg developers\n",
      "  built with gcc 12.2.0 (crosstool-NG 1.25.0.152_89671bf)\n",
      "  configuration: --prefix=/ffbuild/prefix --pkg-config-flags=--static --pkg-config=pkg-config --cross-prefix=x86_64-w64-mingw32- --arch=x86_64 --target-os=mingw32 --enable-gpl --enable-version3 --disable-debug --disable-w32threads --enable-pthreads --enable-iconv --enable-libxml2 --enable-zlib --enable-libfreetype --enable-libfribidi --enable-gmp --enable-lzma --enable-fontconfig --enable-libvorbis --enable-opencl --disable-libpulse --enable-libvmaf --disable-libxcb --disable-xlib --enable-amf --enable-libaom --enable-libaribb24 --enable-avisynth --enable-chromaprint --enable-libdav1d --enable-libdavs2 --disable-libfdk-aac --enable-ffnvcodec --enable-cuda-llvm --enable-frei0r --enable-libgme --enable-libkvazaar --enable-libass --enable-libbluray --enable-libjxl --enable-libmp3lame --enable-libopus --enable-librist --enable-libssh --enable-libtheora --enable-libvpx --enable-libwebp --enable-lv2 --disable-libmfx --enable-libvpl --enable-openal --enable-libopencore-amrnb --enable-libopencore-amrwb --enable-libopenh264 --enable-libopenjpeg --enable-libopenmpt --enable-librav1e --enable-librubberband --enable-schannel --enable-sdl2 --enable-libsoxr --enable-libsrt --enable-libsvtav1 --enable-libtwolame --enable-libuavs3d --disable-libdrm --disable-vaapi --enable-libvidstab --enable-vulkan --enable-libshaderc --enable-libplacebo --enable-libx264 --enable-libx265 --enable-libxavs2 --enable-libxvid --enable-libzimg --enable-libzvbi --extra-cflags=-DLIBTWOLAME_STATIC --extra-cxxflags= --extra-ldflags=-pthread --extra-ldexeflags= --extra-libs=-lgomp --extra-version=20230330\n",
      "  libavutil      58.  5.100 / 58.  5.100\n",
      "  libavcodec     60.  7.100 / 60.  7.100\n",
      "  libavformat    60.  4.101 / 60.  4.101\n",
      "  libavdevice    60.  2.100 / 60.  2.100\n",
      "  libavfilter     9.  5.100 /  9.  5.100\n",
      "  libswscale      7.  2.100 /  7.  2.100\n",
      "  libswresample   4. 11.100 /  4. 11.100\n",
      "  libpostproc    57.  2.100 / 57.  2.100\n",
      "Input #0, image2, from 'output/tmp/%d.png':\n",
      "  Duration: 00:00:00.20, start: 0.000000, bitrate: N/A\n",
      "  Stream #0:0: Video: png, rgb24(pc, gbr/unknown/unknown), 256x256, 25 fps, 25 tbr, 25 tbn\n",
      "Stream mapping:\n",
      "  Stream #0:0 -> #0:0 (png (native) -> h264 (libx264))\n",
      "Press [q] to stop, [?] for help\n",
      "[libx264 @ 00000238af013bc0] using cpu capabilities: MMX2 SSE2Fast SSSE3 SSE4.2 AVX FMA3 BMI2 AVX2 AVX512\n",
      "[libx264 @ 00000238af013bc0] profile High 4:4:4 Predictive, level 1.2, 4:4:4, 8-bit\n",
      "[libx264 @ 00000238af013bc0] 264 - core 164 - H.264/MPEG-4 AVC codec - Copyleft 2003-2023 - http://www.videolan.org/x264.html - options: cabac=1 ref=3 deblock=1:0:0 analyse=0x3:0x113 me=hex subme=7 psy=1 psy_rd=1.00:0.00 mixed_ref=1 me_range=16 chroma_me=1 trellis=1 8x8dct=1 cqm=0 deadzone=21,11 fast_pskip=1 chroma_qp_offset=4 threads=8 lookahead_threads=1 sliced_threads=0 nr=0 decimate=1 interlaced=0 bluray_compat=0 constrained_intra=0 bframes=3 b_pyramid=2 b_adapt=1 b_bias=0 direct=1 weightb=1 open_gop=0 weightp=2 keyint=250 keyint_min=1 scenecut=40 intra_refresh=0 rc_lookahead=40 rc=crf mbtree=1 crf=23.0 qcomp=0.60 qpmin=0 qpmax=69 qpstep=4 ip_ratio=1.40 aq=1:1.00\n",
      "Output #0, mp4, to 'output/1.mp4':\n",
      "  Metadata:\n",
      "    encoder         : Lavf60.4.101\n",
      "  Stream #0:0: Video: h264 (avc1 / 0x31637661), yuv444p(tv, progressive), 256x256, q=2-31, 1 fps, 16384 tbn\n",
      "    Metadata:\n",
      "      encoder         : Lavc60.7.100 libx264\n",
      "    Side data:\n",
      "      cpb: bitrate max/min/avg: 0/0/0 buffer size: 0 vbv_delay: N/A\n",
      "frame=    0 fps=0.0 q=0.0 size=       0kB time=-577014:32:22.77 bitrate=  -0.0kbits/s speed=N/A    \n",
      "frame=    5 fps=0.0 q=-1.0 Lsize=     114kB time=00:00:02.00 bitrate= 467.7kbits/s speed=  49x    \n",
      "video:113kB audio:0kB subtitle:0kB other streams:0kB global headers:0kB muxing overhead: 0.763497%\n",
      "[libx264 @ 00000238af013bc0] frame I:1     Avg QP:18.44  size: 21300\n",
      "[libx264 @ 00000238af013bc0] frame P:4     Avg QP:18.90  size: 23518\n",
      "[libx264 @ 00000238af013bc0] mb I  I16..4:  0.8% 21.1% 78.1%\n",
      "[libx264 @ 00000238af013bc0] mb P  I16..4:  1.1% 16.1% 70.9%  P16..4:  2.2%  5.2%  4.5%  0.0%  0.0%    skip: 0.0%\n",
      "[libx264 @ 00000238af013bc0] 8x8 transform intra:18.9% inter:22.1%\n",
      "[libx264 @ 00000238af013bc0] coded y,u,v intra: 91.6% 75.4% 68.2% inter: 76.6% 39.8% 31.6%\n",
      "[libx264 @ 00000238af013bc0] i16 v,h,dc,p: 31%  8% 54%  8%\n",
      "[libx264 @ 00000238af013bc0] i8 v,h,dc,ddl,ddr,vr,hd,vl,hu: 20% 12% 16%  7%  9%  7% 13%  8%  7%\n",
      "[libx264 @ 00000238af013bc0] i4 v,h,dc,ddl,ddr,vr,hd,vl,hu: 14% 12% 16% 10%  8%  6% 15% 10%  9%\n",
      "[libx264 @ 00000238af013bc0] Weighted P-Frames: Y:0.0% UV:0.0%\n",
      "[libx264 @ 00000238af013bc0] ref P L0: 66.4% 22.5%  7.6%  3.5%\n",
      "[libx264 @ 00000238af013bc0] kb/s:184.60\n"
     ]
    },
    {
     "name": "stdout",
     "output_type": "stream",
     "text": [
      "working image:  raw/3dDS12/0.png\n"
     ]
    },
    {
     "name": "stderr",
     "output_type": "stream",
     "text": [
      "ffmpeg version N-110126-g4d216654ca-20230330 Copyright (c) 2000-2023 the FFmpeg developers\n",
      "  built with gcc 12.2.0 (crosstool-NG 1.25.0.152_89671bf)\n",
      "  configuration: --prefix=/ffbuild/prefix --pkg-config-flags=--static --pkg-config=pkg-config --cross-prefix=x86_64-w64-mingw32- --arch=x86_64 --target-os=mingw32 --enable-gpl --enable-version3 --disable-debug --disable-w32threads --enable-pthreads --enable-iconv --enable-libxml2 --enable-zlib --enable-libfreetype --enable-libfribidi --enable-gmp --enable-lzma --enable-fontconfig --enable-libvorbis --enable-opencl --disable-libpulse --enable-libvmaf --disable-libxcb --disable-xlib --enable-amf --enable-libaom --enable-libaribb24 --enable-avisynth --enable-chromaprint --enable-libdav1d --enable-libdavs2 --disable-libfdk-aac --enable-ffnvcodec --enable-cuda-llvm --enable-frei0r --enable-libgme --enable-libkvazaar --enable-libass --enable-libbluray --enable-libjxl --enable-libmp3lame --enable-libopus --enable-librist --enable-libssh --enable-libtheora --enable-libvpx --enable-libwebp --enable-lv2 --disable-libmfx --enable-libvpl --enable-openal --enable-libopencore-amrnb --enable-libopencore-amrwb --enable-libopenh264 --enable-libopenjpeg --enable-libopenmpt --enable-librav1e --enable-librubberband --enable-schannel --enable-sdl2 --enable-libsoxr --enable-libsrt --enable-libsvtav1 --enable-libtwolame --enable-libuavs3d --disable-libdrm --disable-vaapi --enable-libvidstab --enable-vulkan --enable-libshaderc --enable-libplacebo --enable-libx264 --enable-libx265 --enable-libxavs2 --enable-libxvid --enable-libzimg --enable-libzvbi --extra-cflags=-DLIBTWOLAME_STATIC --extra-cxxflags= --extra-ldflags=-pthread --extra-ldexeflags= --extra-libs=-lgomp --extra-version=20230330\n",
      "  libavutil      58.  5.100 / 58.  5.100\n",
      "  libavcodec     60.  7.100 / 60.  7.100\n",
      "  libavformat    60.  4.101 / 60.  4.101\n",
      "  libavdevice    60.  2.100 / 60.  2.100\n",
      "  libavfilter     9.  5.100 /  9.  5.100\n",
      "  libswscale      7.  2.100 /  7.  2.100\n",
      "  libswresample   4. 11.100 /  4. 11.100\n",
      "  libpostproc    57.  2.100 / 57.  2.100\n",
      "Input #0, image2, from 'output/tmp/%d.png':\n",
      "  Duration: 00:00:00.20, start: 0.000000, bitrate: N/A\n",
      "  Stream #0:0: Video: png, rgb24(pc, gbr/unknown/unknown), 256x256, 25 fps, 25 tbr, 25 tbn\n",
      "Stream mapping:\n",
      "  Stream #0:0 -> #0:0 (png (native) -> h264 (libx264))\n",
      "Press [q] to stop, [?] for help\n",
      "[libx264 @ 00000246afbcc9c0] using cpu capabilities: MMX2 SSE2Fast SSSE3 SSE4.2 AVX FMA3 BMI2 AVX2 AVX512\n",
      "[libx264 @ 00000246afbcc9c0] profile High 4:4:4 Predictive, level 1.2, 4:4:4, 8-bit\n",
      "[libx264 @ 00000246afbcc9c0] 264 - core 164 - H.264/MPEG-4 AVC codec - Copyleft 2003-2023 - http://www.videolan.org/x264.html - options: cabac=1 ref=3 deblock=1:0:0 analyse=0x3:0x113 me=hex subme=7 psy=1 psy_rd=1.00:0.00 mixed_ref=1 me_range=16 chroma_me=1 trellis=1 8x8dct=1 cqm=0 deadzone=21,11 fast_pskip=1 chroma_qp_offset=4 threads=8 lookahead_threads=1 sliced_threads=0 nr=0 decimate=1 interlaced=0 bluray_compat=0 constrained_intra=0 bframes=3 b_pyramid=2 b_adapt=1 b_bias=0 direct=1 weightb=1 open_gop=0 weightp=2 keyint=250 keyint_min=1 scenecut=40 intra_refresh=0 rc_lookahead=40 rc=crf mbtree=1 crf=23.0 qcomp=0.60 qpmin=0 qpmax=69 qpstep=4 ip_ratio=1.40 aq=1:1.00\n",
      "Output #0, mp4, to 'output/2.mp4':\n",
      "  Metadata:\n",
      "    encoder         : Lavf60.4.101\n",
      "  Stream #0:0: Video: h264 (avc1 / 0x31637661), yuv444p(tv, progressive), 256x256, q=2-31, 1 fps, 16384 tbn\n",
      "    Metadata:\n",
      "      encoder         : Lavc60.7.100 libx264\n",
      "    Side data:\n",
      "      cpb: bitrate max/min/avg: 0/0/0 buffer size: 0 vbv_delay: N/A\n",
      "frame=    0 fps=0.0 q=0.0 size=       0kB time=-577014:32:22.77 bitrate=  -0.0kbits/s speed=N/A    \n",
      "frame=    5 fps=0.0 q=-1.0 Lsize=      99kB time=00:00:02.00 bitrate= 406.3kbits/s speed=53.1x    \n",
      "video:98kB audio:0kB subtitle:0kB other streams:0kB global headers:0kB muxing overhead: 0.900086%\n",
      "[libx264 @ 00000246afbcc9c0] frame I:2     Avg QP:17.99  size: 22694\n",
      "[libx264 @ 00000246afbcc9c0] frame P:2     Avg QP:18.18  size: 19100\n",
      "[libx264 @ 00000246afbcc9c0] frame B:1     Avg QP:18.56  size: 16394\n",
      "[libx264 @ 00000246afbcc9c0] consecutive B-frames: 60.0% 40.0%  0.0%  0.0%\n",
      "[libx264 @ 00000246afbcc9c0] mb I  I16..4:  0.4% 26.8% 72.9%\n",
      "[libx264 @ 00000246afbcc9c0] mb P  I16..4:  0.8% 28.1% 47.7%  P16..4:  3.1% 11.7%  8.6%  0.0%  0.0%    skip: 0.0%\n",
      "[libx264 @ 00000246afbcc9c0] mb B  I16..4:  0.8%  7.0% 25.4%  B16..8: 10.5% 24.6% 29.3%  direct: 2.3%  skip: 0.0%  L0:54.1% L1:27.0% BI:18.9%\n",
      "[libx264 @ 00000246afbcc9c0] 8x8 transform intra:30.2% inter:34.3%\n",
      "[libx264 @ 00000246afbcc9c0] coded y,u,v intra: 96.0% 61.5% 72.1% inter: 85.3% 27.7% 35.1%\n",
      "[libx264 @ 00000246afbcc9c0] i16 v,h,dc,p:  0% 25% 12% 62%\n",
      "[libx264 @ 00000246afbcc9c0] i8 v,h,dc,ddl,ddr,vr,hd,vl,hu: 18% 24% 16%  5%  6%  8%  9%  6%  8%\n",
      "[libx264 @ 00000246afbcc9c0] i4 v,h,dc,ddl,ddr,vr,hd,vl,hu: 17% 32% 10%  5%  6%  8%  6%  6% 10%\n",
      "[libx264 @ 00000246afbcc9c0] Weighted P-Frames: Y:0.0% UV:0.0%\n",
      "[libx264 @ 00000246afbcc9c0] kb/s:159.97\n"
     ]
    },
    {
     "name": "stdout",
     "output_type": "stream",
     "text": [
      "working image:  raw/3dDS13/0.png\n"
     ]
    },
    {
     "name": "stderr",
     "output_type": "stream",
     "text": [
      "ffmpeg version N-110126-g4d216654ca-20230330 Copyright (c) 2000-2023 the FFmpeg developers\n",
      "  built with gcc 12.2.0 (crosstool-NG 1.25.0.152_89671bf)\n",
      "  configuration: --prefix=/ffbuild/prefix --pkg-config-flags=--static --pkg-config=pkg-config --cross-prefix=x86_64-w64-mingw32- --arch=x86_64 --target-os=mingw32 --enable-gpl --enable-version3 --disable-debug --disable-w32threads --enable-pthreads --enable-iconv --enable-libxml2 --enable-zlib --enable-libfreetype --enable-libfribidi --enable-gmp --enable-lzma --enable-fontconfig --enable-libvorbis --enable-opencl --disable-libpulse --enable-libvmaf --disable-libxcb --disable-xlib --enable-amf --enable-libaom --enable-libaribb24 --enable-avisynth --enable-chromaprint --enable-libdav1d --enable-libdavs2 --disable-libfdk-aac --enable-ffnvcodec --enable-cuda-llvm --enable-frei0r --enable-libgme --enable-libkvazaar --enable-libass --enable-libbluray --enable-libjxl --enable-libmp3lame --enable-libopus --enable-librist --enable-libssh --enable-libtheora --enable-libvpx --enable-libwebp --enable-lv2 --disable-libmfx --enable-libvpl --enable-openal --enable-libopencore-amrnb --enable-libopencore-amrwb --enable-libopenh264 --enable-libopenjpeg --enable-libopenmpt --enable-librav1e --enable-librubberband --enable-schannel --enable-sdl2 --enable-libsoxr --enable-libsrt --enable-libsvtav1 --enable-libtwolame --enable-libuavs3d --disable-libdrm --disable-vaapi --enable-libvidstab --enable-vulkan --enable-libshaderc --enable-libplacebo --enable-libx264 --enable-libx265 --enable-libxavs2 --enable-libxvid --enable-libzimg --enable-libzvbi --extra-cflags=-DLIBTWOLAME_STATIC --extra-cxxflags= --extra-ldflags=-pthread --extra-ldexeflags= --extra-libs=-lgomp --extra-version=20230330\n",
      "  libavutil      58.  5.100 / 58.  5.100\n",
      "  libavcodec     60.  7.100 / 60.  7.100\n",
      "  libavformat    60.  4.101 / 60.  4.101\n",
      "  libavdevice    60.  2.100 / 60.  2.100\n",
      "  libavfilter     9.  5.100 /  9.  5.100\n",
      "  libswscale      7.  2.100 /  7.  2.100\n",
      "  libswresample   4. 11.100 /  4. 11.100\n",
      "  libpostproc    57.  2.100 / 57.  2.100\n",
      "Input #0, image2, from 'output/tmp/%d.png':\n",
      "  Duration: 00:00:00.20, start: 0.000000, bitrate: N/A\n",
      "  Stream #0:0: Video: png, rgb24(pc, gbr/unknown/unknown), 256x256, 25 fps, 25 tbr, 25 tbn\n",
      "Stream mapping:\n",
      "  Stream #0:0 -> #0:0 (png (native) -> h264 (libx264))\n",
      "Press [q] to stop, [?] for help\n",
      "[libx264 @ 000002ca46100f00] using cpu capabilities: MMX2 SSE2Fast SSSE3 SSE4.2 AVX FMA3 BMI2 AVX2 AVX512\n",
      "[libx264 @ 000002ca46100f00] profile High 4:4:4 Predictive, level 1.2, 4:4:4, 8-bit\n",
      "[libx264 @ 000002ca46100f00] 264 - core 164 - H.264/MPEG-4 AVC codec - Copyleft 2003-2023 - http://www.videolan.org/x264.html - options: cabac=1 ref=3 deblock=1:0:0 analyse=0x3:0x113 me=hex subme=7 psy=1 psy_rd=1.00:0.00 mixed_ref=1 me_range=16 chroma_me=1 trellis=1 8x8dct=1 cqm=0 deadzone=21,11 fast_pskip=1 chroma_qp_offset=4 threads=8 lookahead_threads=1 sliced_threads=0 nr=0 decimate=1 interlaced=0 bluray_compat=0 constrained_intra=0 bframes=3 b_pyramid=2 b_adapt=1 b_bias=0 direct=1 weightb=1 open_gop=0 weightp=2 keyint=250 keyint_min=1 scenecut=40 intra_refresh=0 rc_lookahead=40 rc=crf mbtree=1 crf=23.0 qcomp=0.60 qpmin=0 qpmax=69 qpstep=4 ip_ratio=1.40 aq=1:1.00\n",
      "Output #0, mp4, to 'output/3.mp4':\n",
      "  Metadata:\n",
      "    encoder         : Lavf60.4.101\n",
      "  Stream #0:0: Video: h264 (avc1 / 0x31637661), yuv444p(tv, progressive), 256x256, q=2-31, 1 fps, 16384 tbn\n",
      "    Metadata:\n",
      "      encoder         : Lavc60.7.100 libx264\n",
      "    Side data:\n",
      "      cpb: bitrate max/min/avg: 0/0/0 buffer size: 0 vbv_delay: N/A\n",
      "frame=    0 fps=0.0 q=0.0 size=       0kB time=-577014:32:22.77 bitrate=  -0.0kbits/s speed=N/A    \n",
      "frame=    5 fps=0.0 q=-1.0 Lsize=      86kB time=00:00:02.00 bitrate= 350.3kbits/s speed=45.2x    \n",
      "video:85kB audio:0kB subtitle:0kB other streams:0kB global headers:0kB muxing overhead: 1.021997%\n",
      "[libx264 @ 000002ca46100f00] frame I:1     Avg QP:17.98  size: 20223\n",
      "[libx264 @ 000002ca46100f00] frame P:4     Avg QP:16.86  size: 16449\n",
      "[libx264 @ 000002ca46100f00] mb I  I16..4:  2.3% 28.5% 69.1%\n",
      "[libx264 @ 000002ca46100f00] mb P  I16..4:  0.9% 32.7% 47.9%  P16..4:  2.1%  8.7%  7.6%  0.0%  0.0%    skip: 0.0%\n",
      "[libx264 @ 000002ca46100f00] 8x8 transform intra:37.4% inter:37.6%\n",
      "[libx264 @ 000002ca46100f00] coded y,u,v intra: 88.0% 57.2% 58.8% inter: 90.1% 33.2% 42.6%\n",
      "[libx264 @ 000002ca46100f00] i16 v,h,dc,p:  7% 27% 47% 20%\n",
      "[libx264 @ 000002ca46100f00] i8 v,h,dc,ddl,ddr,vr,hd,vl,hu: 17% 19% 19%  6%  6%  4%  8%  5% 16%\n",
      "[libx264 @ 000002ca46100f00] i4 v,h,dc,ddl,ddr,vr,hd,vl,hu: 16% 24% 11%  6%  6%  4% 14%  5% 14%\n",
      "[libx264 @ 000002ca46100f00] Weighted P-Frames: Y:0.0% UV:0.0%\n",
      "[libx264 @ 000002ca46100f00] ref P L0: 78.7% 14.2%  7.1%\n",
      "[libx264 @ 000002ca46100f00] kb/s:137.63\n"
     ]
    },
    {
     "name": "stdout",
     "output_type": "stream",
     "text": [
      "working image:  raw/3dDS14RL/0.png\n"
     ]
    },
    {
     "name": "stderr",
     "output_type": "stream",
     "text": [
      "ffmpeg version N-110126-g4d216654ca-20230330 Copyright (c) 2000-2023 the FFmpeg developers\n",
      "  built with gcc 12.2.0 (crosstool-NG 1.25.0.152_89671bf)\n",
      "  configuration: --prefix=/ffbuild/prefix --pkg-config-flags=--static --pkg-config=pkg-config --cross-prefix=x86_64-w64-mingw32- --arch=x86_64 --target-os=mingw32 --enable-gpl --enable-version3 --disable-debug --disable-w32threads --enable-pthreads --enable-iconv --enable-libxml2 --enable-zlib --enable-libfreetype --enable-libfribidi --enable-gmp --enable-lzma --enable-fontconfig --enable-libvorbis --enable-opencl --disable-libpulse --enable-libvmaf --disable-libxcb --disable-xlib --enable-amf --enable-libaom --enable-libaribb24 --enable-avisynth --enable-chromaprint --enable-libdav1d --enable-libdavs2 --disable-libfdk-aac --enable-ffnvcodec --enable-cuda-llvm --enable-frei0r --enable-libgme --enable-libkvazaar --enable-libass --enable-libbluray --enable-libjxl --enable-libmp3lame --enable-libopus --enable-librist --enable-libssh --enable-libtheora --enable-libvpx --enable-libwebp --enable-lv2 --disable-libmfx --enable-libvpl --enable-openal --enable-libopencore-amrnb --enable-libopencore-amrwb --enable-libopenh264 --enable-libopenjpeg --enable-libopenmpt --enable-librav1e --enable-librubberband --enable-schannel --enable-sdl2 --enable-libsoxr --enable-libsrt --enable-libsvtav1 --enable-libtwolame --enable-libuavs3d --disable-libdrm --disable-vaapi --enable-libvidstab --enable-vulkan --enable-libshaderc --enable-libplacebo --enable-libx264 --enable-libx265 --enable-libxavs2 --enable-libxvid --enable-libzimg --enable-libzvbi --extra-cflags=-DLIBTWOLAME_STATIC --extra-cxxflags= --extra-ldflags=-pthread --extra-ldexeflags= --extra-libs=-lgomp --extra-version=20230330\n",
      "  libavutil      58.  5.100 / 58.  5.100\n",
      "  libavcodec     60.  7.100 / 60.  7.100\n",
      "  libavformat    60.  4.101 / 60.  4.101\n",
      "  libavdevice    60.  2.100 / 60.  2.100\n",
      "  libavfilter     9.  5.100 /  9.  5.100\n",
      "  libswscale      7.  2.100 /  7.  2.100\n",
      "  libswresample   4. 11.100 /  4. 11.100\n",
      "  libpostproc    57.  2.100 / 57.  2.100\n",
      "Input #0, image2, from 'output/tmp/%d.png':\n",
      "  Duration: 00:00:00.20, start: 0.000000, bitrate: N/A\n",
      "  Stream #0:0: Video: png, rgb24(pc, gbr/unknown/unknown), 256x256, 25 fps, 25 tbr, 25 tbn\n",
      "Stream mapping:\n",
      "  Stream #0:0 -> #0:0 (png (native) -> h264 (libx264))\n",
      "Press [q] to stop, [?] for help\n",
      "[libx264 @ 000001bae88ad100] using cpu capabilities: MMX2 SSE2Fast SSSE3 SSE4.2 AVX FMA3 BMI2 AVX2 AVX512\n",
      "[libx264 @ 000001bae88ad100] profile High 4:4:4 Predictive, level 1.2, 4:4:4, 8-bit\n",
      "[libx264 @ 000001bae88ad100] 264 - core 164 - H.264/MPEG-4 AVC codec - Copyleft 2003-2023 - http://www.videolan.org/x264.html - options: cabac=1 ref=3 deblock=1:0:0 analyse=0x3:0x113 me=hex subme=7 psy=1 psy_rd=1.00:0.00 mixed_ref=1 me_range=16 chroma_me=1 trellis=1 8x8dct=1 cqm=0 deadzone=21,11 fast_pskip=1 chroma_qp_offset=4 threads=8 lookahead_threads=1 sliced_threads=0 nr=0 decimate=1 interlaced=0 bluray_compat=0 constrained_intra=0 bframes=3 b_pyramid=2 b_adapt=1 b_bias=0 direct=1 weightb=1 open_gop=0 weightp=2 keyint=250 keyint_min=1 scenecut=40 intra_refresh=0 rc_lookahead=40 rc=crf mbtree=1 crf=23.0 qcomp=0.60 qpmin=0 qpmax=69 qpstep=4 ip_ratio=1.40 aq=1:1.00\n",
      "Output #0, mp4, to 'output/4.mp4':\n",
      "  Metadata:\n",
      "    encoder         : Lavf60.4.101\n",
      "  Stream #0:0: Video: h264 (avc1 / 0x31637661), yuv444p(tv, progressive), 256x256, q=2-31, 1 fps, 16384 tbn\n",
      "    Metadata:\n",
      "      encoder         : Lavc60.7.100 libx264\n",
      "    Side data:\n",
      "      cpb: bitrate max/min/avg: 0/0/0 buffer size: 0 vbv_delay: N/A\n",
      "frame=    0 fps=0.0 q=0.0 size=       0kB time=-577014:32:22.77 bitrate=  -0.0kbits/s speed=N/A    \n",
      "frame=    5 fps=0.0 q=-1.0 Lsize=     191kB time=00:00:02.00 bitrate= 782.9kbits/s speed=41.5x    \n",
      "video:190kB audio:0kB subtitle:0kB other streams:0kB global headers:0kB muxing overhead: 0.456818%\n",
      "[libx264 @ 000001bae88ad100] frame I:2     Avg QP:18.58  size: 40314\n",
      "[libx264 @ 000001bae88ad100] frame P:3     Avg QP:19.80  size: 37842\n",
      "[libx264 @ 000001bae88ad100] mb I  I16..4:  0.0% 29.9% 70.1%\n",
      "[libx264 @ 000001bae88ad100] mb P  I16..4:  0.0% 31.0% 58.7%  P16..4:  1.6%  5.2%  3.5%  0.0%  0.0%    skip: 0.0%\n",
      "[libx264 @ 000001bae88ad100] 8x8 transform intra:32.6% inter:21.5%\n",
      "[libx264 @ 000001bae88ad100] coded y,u,v intra: 100.0% 89.9% 79.3% inter: 98.1% 26.3% 13.0%\n",
      "[libx264 @ 000001bae88ad100] i8 v,h,dc,ddl,ddr,vr,hd,vl,hu:  7% 20% 26%  7%  5%  5%  8%  7% 15%\n",
      "[libx264 @ 000001bae88ad100] i4 v,h,dc,ddl,ddr,vr,hd,vl,hu:  8% 11% 18% 10%  8%  8% 11% 11% 15%\n",
      "[libx264 @ 000001bae88ad100] Weighted P-Frames: Y:0.0% UV:0.0%\n",
      "[libx264 @ 000001bae88ad100] ref P L0: 91.8%  5.7%  2.5%\n",
      "[libx264 @ 000001bae88ad100] kb/s:310.64\n"
     ]
    },
    {
     "name": "stdout",
     "output_type": "stream",
     "text": [
      "working image:  raw/3dDS15/0.png\n"
     ]
    },
    {
     "name": "stderr",
     "output_type": "stream",
     "text": [
      "ffmpeg version N-110126-g4d216654ca-20230330 Copyright (c) 2000-2023 the FFmpeg developers\n",
      "  built with gcc 12.2.0 (crosstool-NG 1.25.0.152_89671bf)\n",
      "  configuration: --prefix=/ffbuild/prefix --pkg-config-flags=--static --pkg-config=pkg-config --cross-prefix=x86_64-w64-mingw32- --arch=x86_64 --target-os=mingw32 --enable-gpl --enable-version3 --disable-debug --disable-w32threads --enable-pthreads --enable-iconv --enable-libxml2 --enable-zlib --enable-libfreetype --enable-libfribidi --enable-gmp --enable-lzma --enable-fontconfig --enable-libvorbis --enable-opencl --disable-libpulse --enable-libvmaf --disable-libxcb --disable-xlib --enable-amf --enable-libaom --enable-libaribb24 --enable-avisynth --enable-chromaprint --enable-libdav1d --enable-libdavs2 --disable-libfdk-aac --enable-ffnvcodec --enable-cuda-llvm --enable-frei0r --enable-libgme --enable-libkvazaar --enable-libass --enable-libbluray --enable-libjxl --enable-libmp3lame --enable-libopus --enable-librist --enable-libssh --enable-libtheora --enable-libvpx --enable-libwebp --enable-lv2 --disable-libmfx --enable-libvpl --enable-openal --enable-libopencore-amrnb --enable-libopencore-amrwb --enable-libopenh264 --enable-libopenjpeg --enable-libopenmpt --enable-librav1e --enable-librubberband --enable-schannel --enable-sdl2 --enable-libsoxr --enable-libsrt --enable-libsvtav1 --enable-libtwolame --enable-libuavs3d --disable-libdrm --disable-vaapi --enable-libvidstab --enable-vulkan --enable-libshaderc --enable-libplacebo --enable-libx264 --enable-libx265 --enable-libxavs2 --enable-libxvid --enable-libzimg --enable-libzvbi --extra-cflags=-DLIBTWOLAME_STATIC --extra-cxxflags= --extra-ldflags=-pthread --extra-ldexeflags= --extra-libs=-lgomp --extra-version=20230330\n",
      "  libavutil      58.  5.100 / 58.  5.100\n",
      "  libavcodec     60.  7.100 / 60.  7.100\n",
      "  libavformat    60.  4.101 / 60.  4.101\n",
      "  libavdevice    60.  2.100 / 60.  2.100\n",
      "  libavfilter     9.  5.100 /  9.  5.100\n",
      "  libswscale      7.  2.100 /  7.  2.100\n",
      "  libswresample   4. 11.100 /  4. 11.100\n",
      "  libpostproc    57.  2.100 / 57.  2.100\n",
      "Input #0, image2, from 'output/tmp/%d.png':\n",
      "  Duration: 00:00:00.20, start: 0.000000, bitrate: N/A\n",
      "  Stream #0:0: Video: png, rgb24(pc, gbr/unknown/unknown), 256x256, 25 fps, 25 tbr, 25 tbn\n",
      "Stream mapping:\n",
      "  Stream #0:0 -> #0:0 (png (native) -> h264 (libx264))\n",
      "Press [q] to stop, [?] for help\n",
      "[libx264 @ 00000192edc34980] using cpu capabilities: MMX2 SSE2Fast SSSE3 SSE4.2 AVX FMA3 BMI2 AVX2 AVX512\n",
      "[libx264 @ 00000192edc34980] profile High 4:4:4 Predictive, level 1.2, 4:4:4, 8-bit\n",
      "[libx264 @ 00000192edc34980] 264 - core 164 - H.264/MPEG-4 AVC codec - Copyleft 2003-2023 - http://www.videolan.org/x264.html - options: cabac=1 ref=3 deblock=1:0:0 analyse=0x3:0x113 me=hex subme=7 psy=1 psy_rd=1.00:0.00 mixed_ref=1 me_range=16 chroma_me=1 trellis=1 8x8dct=1 cqm=0 deadzone=21,11 fast_pskip=1 chroma_qp_offset=4 threads=8 lookahead_threads=1 sliced_threads=0 nr=0 decimate=1 interlaced=0 bluray_compat=0 constrained_intra=0 bframes=3 b_pyramid=2 b_adapt=1 b_bias=0 direct=1 weightb=1 open_gop=0 weightp=2 keyint=250 keyint_min=1 scenecut=40 intra_refresh=0 rc_lookahead=40 rc=crf mbtree=1 crf=23.0 qcomp=0.60 qpmin=0 qpmax=69 qpstep=4 ip_ratio=1.40 aq=1:1.00\n",
      "Output #0, mp4, to 'output/5.mp4':\n",
      "  Metadata:\n",
      "    encoder         : Lavf60.4.101\n",
      "  Stream #0:0: Video: h264 (avc1 / 0x31637661), yuv444p(tv, progressive), 256x256, q=2-31, 1 fps, 16384 tbn\n",
      "    Metadata:\n",
      "      encoder         : Lavc60.7.100 libx264\n",
      "    Side data:\n",
      "      cpb: bitrate max/min/avg: 0/0/0 buffer size: 0 vbv_delay: N/A\n",
      "frame=    0 fps=0.0 q=0.0 size=       0kB time=-577014:32:22.77 bitrate=  -0.0kbits/s speed=N/A    \n",
      "frame=    5 fps=0.0 q=-1.0 Lsize=     144kB time=00:00:02.00 bitrate= 590.8kbits/s speed=52.6x    \n",
      "video:143kB audio:0kB subtitle:0kB other streams:0kB global headers:0kB muxing overhead: 0.625387%\n",
      "[libx264 @ 00000192edc34980] frame I:1     Avg QP:18.39  size: 34490\n",
      "[libx264 @ 00000192edc34980] frame P:1     Avg QP:18.27  size: 28103\n",
      "[libx264 @ 00000192edc34980] frame B:3     Avg QP:18.39  size: 27841\n",
      "[libx264 @ 00000192edc34980] consecutive B-frames: 20.0%  0.0%  0.0% 80.0%\n",
      "[libx264 @ 00000192edc34980] mb I  I16..4: 12.9% 26.2% 60.9%\n",
      "[libx264 @ 00000192edc34980] mb P  I16..4:  0.0% 37.5% 53.9%  P16..4:  1.2%  4.3%  3.1%  0.0%  0.0%    skip: 0.0%\n",
      "[libx264 @ 00000192edc34980] mb B  I16..4:  0.5% 21.7% 49.0%  B16..8:  9.6% 10.5%  5.3%  direct: 3.4%  skip: 0.0%  L0:30.8% L1:17.8% BI:51.4%\n",
      "[libx264 @ 00000192edc34980] 8x8 transform intra:31.8% inter:21.8%\n",
      "[libx264 @ 00000192edc34980] coded y,u,v intra: 99.9% 75.4% 62.2% inter: 99.7% 18.0% 9.3%\n",
      "[libx264 @ 00000192edc34980] i16 v,h,dc,p:  3%  3% 78% 16%\n",
      "[libx264 @ 00000192edc34980] i8 v,h,dc,ddl,ddr,vr,hd,vl,hu:  6% 21% 24%  6%  7%  5% 11%  6% 15%\n",
      "[libx264 @ 00000192edc34980] i4 v,h,dc,ddl,ddr,vr,hd,vl,hu:  9% 14% 19%  9%  9%  9% 12%  9% 13%\n",
      "[libx264 @ 00000192edc34980] Weighted P-Frames: Y:0.0% UV:0.0%\n",
      "[libx264 @ 00000192edc34980] ref B L0: 95.7%  4.3%\n",
      "[libx264 @ 00000192edc34980] ref B L1: 94.3%  5.7%\n",
      "[libx264 @ 00000192edc34980] kb/s:233.79\n"
     ]
    },
    {
     "name": "stdout",
     "output_type": "stream",
     "text": [
      "working image:  raw/3dDS16/0.png\n"
     ]
    }
   ],
   "source": [
    "from PIL import Image\n",
    "from torchvision.transforms.functional import InterpolationMode\n",
    "import cv2\n",
    "\n",
    "testing = False\n",
    "\n",
    "count = os.listdir(f'raw')\n",
    "print(count)\n",
    "minFileCount = 1000\n",
    "folder = 1\n",
    "\n",
    "# create csv file\n",
    "import pandas as pd\n",
    "df = pd.DataFrame(columns=['videoid', 'name', 'page_dir'])\n",
    "\n",
    "!rm -rf output\n",
    "\n",
    "for i,dirname in enumerate(count):\n",
    "    # get list of images from raw/{i} folder\n",
    "    images = os.listdir(f'raw/{dirname}')\n",
    "    \n",
    "    if len(images) < minFileCount:\n",
    "        minFileCount = len(images)\n",
    "        folder = dirname\n",
    "    \n",
    "    # rename images to 1.jpg, 2.jpg, 3.jpg, etc\n",
    "    for j in range(len(images)):\n",
    "        os.rename(f'raw/{dirname}/{images[j]}', f'raw/{dirname}/{j}.png')\n",
    "        images[j] = f'raw/{dirname}/{j}.png'\n",
    "    \n",
    "    img_file_name = images[0]\n",
    "    \n",
    "    async with aiofiles.open(img_file_name, \"rb\") as input_file:\n",
    "        print(\"working image: \", img_file_name)\n",
    "\n",
    "        image_bin = await input_file.read()\n",
    "        image = Image.open(io.BytesIO(image_bin))\n",
    "\n",
    "        if not image.mode == \"RGB\":\n",
    "            image = image.convert(\"RGB\")\n",
    "\n",
    "        image = load_image(image, device=torch.device(\"cuda\"))\n",
    "        # caption the image\n",
    "        captions = blip_decoder.generate(image, sample=False, num_beams=16, min_length=22, max_length=48, repetition_penalty=1.0)\n",
    "        \n",
    "        isRightToLeft = dirname.endswith(\"RL\")\n",
    "        \n",
    "        if isRightToLeft:\n",
    "            caption = \"camera panning right to left, \" + captions[0]\n",
    "        else:\n",
    "            caption = \"camera panning left to right, \" + captions[0]\n",
    "        # save caption as name to csv file\n",
    "        df.loc[len(df)] = [i, caption, f'raw/{dirname}']\n",
    "        \n",
    "        # print(caption)\n",
    "        \n",
    "        # turn images into video\n",
    "        # Get the images\n",
    "        images = [cv2.imread(image_path) for image_path in images]\n",
    "        # crop image to center square shape using the shortest side\n",
    "        images = [image[:, int((image.shape[1] - image.shape[0]) / 2):int((image.shape[1] + image.shape[0]) / 2)] for image in images]\n",
    "        # resize images to 256x256\n",
    "        images = [cv2.resize(image, (256, 256)) for image in images]\n",
    "        \n",
    "        !rm -rf output\\tmp\n",
    "        !mkdir output\\tmp\n",
    "        \n",
    "        # save frames to output/tmp folder for debugging\n",
    "        for j,image in enumerate(images):\n",
    "            cv2.imwrite(f'output/tmp/{j}.png', image)\n",
    "        \n",
    "        \n",
    "        \n",
    "        !ffmpeg -r 1 -i output/tmp/%d.png -c:v libx264 -vf fps=1 output/{i}.mp4\n",
    "        \n",
    "\n",
    "        # # Create a video writer\n",
    "        # video_writer = cv2.VideoWriter(f'output/{i}.mp4', cv2.VideoWriter_fourcc(*'MP4V'), 1, (256, 256))\n",
    "        \n",
    "        # # fix moov atom not found error\n",
    "        # # https://stackoverflow.com/questions/30140432/how-to-fix-moov-atom-not-found\n",
    "\n",
    "        # # Write the images to the video writer\n",
    "        # for image in images:\n",
    "        #     video_writer.write(image)\n",
    "            \n",
    "            \n",
    "        # # Close the writer\n",
    "        # video_writer.release()\n",
    "        \n",
    "            \n",
    "        if testing and i > 11:\n",
    "            break\n",
    "            \n",
    "print(\"minFileCount: \", minFileCount)\n",
    "            \n",
    "# save csv file\n",
    "df.to_csv('output.csv', index=False)"
   ]
  },
  {
   "cell_type": "code",
   "execution_count": null,
   "metadata": {},
   "outputs": [
    {
     "name": "stderr",
     "output_type": "stream",
     "text": [
      "ffmpeg version N-110126-g4d216654ca-20230330 Copyright (c) 2000-2023 the FFmpeg developers\n",
      "  built with gcc 12.2.0 (crosstool-NG 1.25.0.152_89671bf)\n",
      "  configuration: --prefix=/ffbuild/prefix --pkg-config-flags=--static --pkg-config=pkg-config --cross-prefix=x86_64-w64-mingw32- --arch=x86_64 --target-os=mingw32 --enable-gpl --enable-version3 --disable-debug --disable-w32threads --enable-pthreads --enable-iconv --enable-libxml2 --enable-zlib --enable-libfreetype --enable-libfribidi --enable-gmp --enable-lzma --enable-fontconfig --enable-libvorbis --enable-opencl --disable-libpulse --enable-libvmaf --disable-libxcb --disable-xlib --enable-amf --enable-libaom --enable-libaribb24 --enable-avisynth --enable-chromaprint --enable-libdav1d --enable-libdavs2 --disable-libfdk-aac --enable-ffnvcodec --enable-cuda-llvm --enable-frei0r --enable-libgme --enable-libkvazaar --enable-libass --enable-libbluray --enable-libjxl --enable-libmp3lame --enable-libopus --enable-librist --enable-libssh --enable-libtheora --enable-libvpx --enable-libwebp --enable-lv2 --disable-libmfx --enable-libvpl --enable-openal --enable-libopencore-amrnb --enable-libopencore-amrwb --enable-libopenh264 --enable-libopenjpeg --enable-libopenmpt --enable-librav1e --enable-librubberband --enable-schannel --enable-sdl2 --enable-libsoxr --enable-libsrt --enable-libsvtav1 --enable-libtwolame --enable-libuavs3d --disable-libdrm --disable-vaapi --enable-libvidstab --enable-vulkan --enable-libshaderc --enable-libplacebo --enable-libx264 --enable-libx265 --enable-libxavs2 --enable-libxvid --enable-libzimg --enable-libzvbi --extra-cflags=-DLIBTWOLAME_STATIC --extra-cxxflags= --extra-ldflags=-pthread --extra-ldexeflags= --extra-libs=-lgomp --extra-version=20230330\n",
      "  libavutil      58.  5.100 / 58.  5.100\n",
      "  libavcodec     60.  7.100 / 60.  7.100\n",
      "  libavformat    60.  4.101 / 60.  4.101\n",
      "  libavdevice    60.  2.100 / 60.  2.100\n",
      "  libavfilter     9.  5.100 /  9.  5.100\n",
      "  libswscale      7.  2.100 /  7.  2.100\n",
      "  libswresample   4. 11.100 /  4. 11.100\n",
      "  libpostproc    57.  2.100 / 57.  2.100\n",
      "Input #0, mov,mp4,m4a,3gp,3g2,mj2, from 'output/0.mp4':\n",
      "  Metadata:\n",
      "    major_brand     : isom\n",
      "    minor_version   : 512\n",
      "    compatible_brands: isomiso2avc1mp41\n",
      "    encoder         : Lavf60.4.101\n",
      "  Duration: 00:00:06.00, start: 0.000000, bitrate: 169 kb/s\n",
      "  Stream #0:0[0x1](und): Video: h264 (High 4:4:4 Predictive) (avc1 / 0x31637661), yuv444p(progressive), 256x256, 168 kb/s, 1 fps, 1 tbr, 16384 tbn (default)\n",
      "    Metadata:\n",
      "      handler_name    : VideoHandler\n",
      "      vendor_id       : [0][0][0][0]\n",
      "      encoder         : Lavc60.7.100 libx264\n",
      "At least one output file must be specified\n"
     ]
    }
   ],
   "source": [
    "!ffmpeg -i output/0.mp4"
   ]
  }
 ],
 "metadata": {
  "kernelspec": {
   "display_name": "animatediff",
   "language": "python",
   "name": "python3"
  },
  "language_info": {
   "codemirror_mode": {
    "name": "ipython",
    "version": 3
   },
   "file_extension": ".py",
   "mimetype": "text/x-python",
   "name": "python",
   "nbconvert_exporter": "python",
   "pygments_lexer": "ipython3",
   "version": "3.10.13"
  }
 },
 "nbformat": 4,
 "nbformat_minor": 2
}
