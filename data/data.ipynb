{
 "cells": [
  {
   "cell_type": "code",
   "execution_count": 1,
   "metadata": {},
   "outputs": [
    {
     "name": "stdout",
     "output_type": "stream",
     "text": [
      "c:\\Users\\texas\\Desktop\\School\\SceneFusion\\AnimateDiff-SceneFusion\\data\\EveryDream\n"
     ]
    },
    {
     "name": "stderr",
     "output_type": "stream",
     "text": [
      "Cloning into 'EveryDream'...\n"
     ]
    }
   ],
   "source": [
    "#download repo\n",
    "!git clone https://github.com/victorchall/EveryDream.git\n",
    "# Set working directory\n",
    "%cd EveryDream"
   ]
  },
  {
   "cell_type": "code",
   "execution_count": 2,
   "metadata": {},
   "outputs": [
    {
     "name": "stderr",
     "output_type": "stream",
     "text": [
      "Cloning into 'scripts/BLIP'...\n"
     ]
    },
    {
     "name": "stdout",
     "output_type": "stream",
     "text": [
      "Collecting timm\n",
      "  Downloading timm-0.9.10-py3-none-any.whl.metadata (59 kB)\n",
      "     ---------------------------------------- 0.0/59.8 kB ? eta -:--:--\n",
      "     ------ --------------------------------- 10.2/59.8 kB ? eta -:--:--\n",
      "     -------------------------- ----------- 41.0/59.8 kB 393.8 kB/s eta 0:00:01\n",
      "     -------------------------------------- 59.8/59.8 kB 533.1 kB/s eta 0:00:00\n",
      "Requirement already satisfied: torch>=1.7 in c:\\users\\texas\\anaconda3\\envs\\animatediff\\lib\\site-packages (from timm) (1.13.1)\n",
      "Requirement already satisfied: torchvision in c:\\users\\texas\\anaconda3\\envs\\animatediff\\lib\\site-packages (from timm) (0.14.1)\n",
      "Requirement already satisfied: pyyaml in c:\\users\\texas\\anaconda3\\envs\\animatediff\\lib\\site-packages (from timm) (6.0.1)\n",
      "Requirement already satisfied: huggingface-hub in c:\\users\\texas\\anaconda3\\envs\\animatediff\\lib\\site-packages (from timm) (0.19.3)\n",
      "Requirement already satisfied: safetensors in c:\\users\\texas\\anaconda3\\envs\\animatediff\\lib\\site-packages (from timm) (0.4.0)\n",
      "Requirement already satisfied: typing_extensions in c:\\users\\texas\\anaconda3\\envs\\animatediff\\lib\\site-packages (from torch>=1.7->timm) (4.8.0)\n",
      "Requirement already satisfied: filelock in c:\\users\\texas\\anaconda3\\envs\\animatediff\\lib\\site-packages (from huggingface-hub->timm) (3.13.1)\n",
      "Requirement already satisfied: fsspec>=2023.5.0 in c:\\users\\texas\\anaconda3\\envs\\animatediff\\lib\\site-packages (from huggingface-hub->timm) (2023.10.0)\n",
      "Requirement already satisfied: requests in c:\\users\\texas\\anaconda3\\envs\\animatediff\\lib\\site-packages (from huggingface-hub->timm) (2.31.0)\n",
      "Requirement already satisfied: tqdm>=4.42.1 in c:\\users\\texas\\anaconda3\\envs\\animatediff\\lib\\site-packages (from huggingface-hub->timm) (4.66.1)\n",
      "Requirement already satisfied: packaging>=20.9 in c:\\users\\texas\\anaconda3\\envs\\animatediff\\lib\\site-packages (from huggingface-hub->timm) (23.2)\n",
      "Requirement already satisfied: numpy in c:\\users\\texas\\anaconda3\\envs\\animatediff\\lib\\site-packages (from torchvision->timm) (1.26.0)\n",
      "Requirement already satisfied: pillow!=8.3.*,>=5.3.0 in c:\\users\\texas\\anaconda3\\envs\\animatediff\\lib\\site-packages (from torchvision->timm) (10.0.1)\n",
      "Requirement already satisfied: colorama in c:\\users\\texas\\anaconda3\\envs\\animatediff\\lib\\site-packages (from tqdm>=4.42.1->huggingface-hub->timm) (0.4.6)\n",
      "Requirement already satisfied: charset-normalizer<4,>=2 in c:\\users\\texas\\anaconda3\\envs\\animatediff\\lib\\site-packages (from requests->huggingface-hub->timm) (3.3.2)\n",
      "Requirement already satisfied: idna<4,>=2.5 in c:\\users\\texas\\anaconda3\\envs\\animatediff\\lib\\site-packages (from requests->huggingface-hub->timm) (3.4)\n",
      "Requirement already satisfied: urllib3<3,>=1.21.1 in c:\\users\\texas\\anaconda3\\envs\\animatediff\\lib\\site-packages (from requests->huggingface-hub->timm) (2.1.0)\n",
      "Requirement already satisfied: certifi>=2017.4.17 in c:\\users\\texas\\anaconda3\\envs\\animatediff\\lib\\site-packages (from requests->huggingface-hub->timm) (2023.7.22)\n",
      "Downloading timm-0.9.10-py3-none-any.whl (2.2 MB)\n",
      "   ---------------------------------------- 0.0/2.2 MB ? eta -:--:--\n",
      "   - -------------------------------------- 0.1/2.2 MB 2.3 MB/s eta 0:00:01\n",
      "   ------ --------------------------------- 0.3/2.2 MB 4.2 MB/s eta 0:00:01\n",
      "   ----------- ---------------------------- 0.6/2.2 MB 4.9 MB/s eta 0:00:01\n",
      "   -------------------------- ------------- 1.5/2.2 MB 8.5 MB/s eta 0:00:01\n",
      "   -------------------------------------- - 2.1/2.2 MB 10.5 MB/s eta 0:00:01\n",
      "   ---------------------------------------- 2.2/2.2 MB 9.4 MB/s eta 0:00:00\n",
      "Installing collected packages: timm\n",
      "Successfully installed timm-0.9.10\n",
      "Collecting fairscale\n",
      "  Downloading fairscale-0.4.13.tar.gz (266 kB)\n",
      "     ---------------------------------------- 0.0/266.3 kB ? eta -:--:--\n",
      "     ---------------------------------------- 0.0/266.3 kB ? eta -:--:--\n",
      "     ---- ---------------------------------- 30.7/266.3 kB 1.4 MB/s eta 0:00:01\n",
      "     ------------- ------------------------- 92.2/266.3 kB 1.3 MB/s eta 0:00:01\n",
      "     -------------------------------------- 266.3/266.3 kB 2.3 MB/s eta 0:00:00\n",
      "  Installing build dependencies: started\n",
      "  Installing build dependencies: finished with status 'done'\n",
      "  Getting requirements to build wheel: started\n",
      "  Getting requirements to build wheel: finished with status 'done'\n",
      "  Installing backend dependencies: started\n",
      "  Installing backend dependencies: finished with status 'done'\n",
      "  Preparing metadata (pyproject.toml): started\n",
      "  Preparing metadata (pyproject.toml): finished with status 'done'\n",
      "Requirement already satisfied: torch>=1.8.0 in c:\\users\\texas\\anaconda3\\envs\\animatediff\\lib\\site-packages (from fairscale) (1.13.1)\n",
      "Requirement already satisfied: numpy>=1.22.0 in c:\\users\\texas\\anaconda3\\envs\\animatediff\\lib\\site-packages (from fairscale) (1.26.0)\n",
      "Requirement already satisfied: typing_extensions in c:\\users\\texas\\anaconda3\\envs\\animatediff\\lib\\site-packages (from torch>=1.8.0->fairscale) (4.8.0)\n",
      "Building wheels for collected packages: fairscale\n",
      "  Building wheel for fairscale (pyproject.toml): started\n",
      "  Building wheel for fairscale (pyproject.toml): finished with status 'done'\n",
      "  Created wheel for fairscale: filename=fairscale-0.4.13-py3-none-any.whl size=332117 sha256=4c030db9d1296d2fe0bc16511946d8bf139ab579a7c0ff3b637ee064ca3ecba7\n",
      "  Stored in directory: c:\\users\\texas\\appdata\\local\\pip\\cache\\wheels\\78\\a4\\c0\\fb0a7ef03cff161611c3fa40c6cf898f76e58ec421b88e8cb3\n",
      "Successfully built fairscale\n",
      "Installing collected packages: fairscale\n",
      "Successfully installed fairscale-0.4.13\n",
      "Requirement already satisfied: timm in c:\\users\\texas\\anaconda3\\envs\\animatediff\\lib\\site-packages (0.9.10)\n",
      "Requirement already satisfied: torch>=1.7 in c:\\users\\texas\\anaconda3\\envs\\animatediff\\lib\\site-packages (from timm) (1.13.1)\n",
      "Requirement already satisfied: torchvision in c:\\users\\texas\\anaconda3\\envs\\animatediff\\lib\\site-packages (from timm) (0.14.1)\n",
      "Requirement already satisfied: pyyaml in c:\\users\\texas\\anaconda3\\envs\\animatediff\\lib\\site-packages (from timm) (6.0.1)\n",
      "Requirement already satisfied: huggingface-hub in c:\\users\\texas\\anaconda3\\envs\\animatediff\\lib\\site-packages (from timm) (0.19.3)\n",
      "Requirement already satisfied: safetensors in c:\\users\\texas\\anaconda3\\envs\\animatediff\\lib\\site-packages (from timm) (0.4.0)\n",
      "Requirement already satisfied: typing_extensions in c:\\users\\texas\\anaconda3\\envs\\animatediff\\lib\\site-packages (from torch>=1.7->timm) (4.8.0)\n",
      "Requirement already satisfied: filelock in c:\\users\\texas\\anaconda3\\envs\\animatediff\\lib\\site-packages (from huggingface-hub->timm) (3.13.1)\n",
      "Requirement already satisfied: fsspec>=2023.5.0 in c:\\users\\texas\\anaconda3\\envs\\animatediff\\lib\\site-packages (from huggingface-hub->timm) (2023.10.0)\n",
      "Requirement already satisfied: requests in c:\\users\\texas\\anaconda3\\envs\\animatediff\\lib\\site-packages (from huggingface-hub->timm) (2.31.0)\n",
      "Requirement already satisfied: tqdm>=4.42.1 in c:\\users\\texas\\anaconda3\\envs\\animatediff\\lib\\site-packages (from huggingface-hub->timm) (4.66.1)\n",
      "Requirement already satisfied: packaging>=20.9 in c:\\users\\texas\\anaconda3\\envs\\animatediff\\lib\\site-packages (from huggingface-hub->timm) (23.2)\n",
      "Requirement already satisfied: numpy in c:\\users\\texas\\anaconda3\\envs\\animatediff\\lib\\site-packages (from torchvision->timm) (1.26.0)\n",
      "Requirement already satisfied: pillow!=8.3.*,>=5.3.0 in c:\\users\\texas\\anaconda3\\envs\\animatediff\\lib\\site-packages (from torchvision->timm) (10.0.1)\n",
      "Requirement already satisfied: colorama in c:\\users\\texas\\anaconda3\\envs\\animatediff\\lib\\site-packages (from tqdm>=4.42.1->huggingface-hub->timm) (0.4.6)\n",
      "Requirement already satisfied: charset-normalizer<4,>=2 in c:\\users\\texas\\anaconda3\\envs\\animatediff\\lib\\site-packages (from requests->huggingface-hub->timm) (3.3.2)\n",
      "Requirement already satisfied: idna<4,>=2.5 in c:\\users\\texas\\anaconda3\\envs\\animatediff\\lib\\site-packages (from requests->huggingface-hub->timm) (3.4)\n",
      "Requirement already satisfied: urllib3<3,>=1.21.1 in c:\\users\\texas\\anaconda3\\envs\\animatediff\\lib\\site-packages (from requests->huggingface-hub->timm) (2.1.0)\n",
      "Requirement already satisfied: certifi>=2017.4.17 in c:\\users\\texas\\anaconda3\\envs\\animatediff\\lib\\site-packages (from requests->huggingface-hub->timm) (2023.7.22)\n",
      "Requirement already satisfied: aiofiles in c:\\users\\texas\\anaconda3\\envs\\animatediff\\lib\\site-packages (23.2.1)\n",
      "Collecting aiohttp\n",
      "  Using cached aiohttp-3.8.6-cp310-cp310-win_amd64.whl.metadata (7.9 kB)\n",
      "Requirement already satisfied: attrs>=17.3.0 in c:\\users\\texas\\anaconda3\\envs\\animatediff\\lib\\site-packages (from aiohttp) (23.1.0)\n",
      "Requirement already satisfied: charset-normalizer<4.0,>=2.0 in c:\\users\\texas\\anaconda3\\envs\\animatediff\\lib\\site-packages (from aiohttp) (3.3.2)\n",
      "Collecting multidict<7.0,>=4.5 (from aiohttp)\n",
      "  Using cached multidict-6.0.4-cp310-cp310-win_amd64.whl (28 kB)\n",
      "Collecting async-timeout<5.0,>=4.0.0a3 (from aiohttp)\n",
      "  Using cached async_timeout-4.0.3-py3-none-any.whl.metadata (4.2 kB)\n",
      "Collecting yarl<2.0,>=1.0 (from aiohttp)\n",
      "  Using cached yarl-1.9.2-cp310-cp310-win_amd64.whl (61 kB)\n",
      "Collecting frozenlist>=1.1.1 (from aiohttp)\n",
      "  Using cached frozenlist-1.4.0-cp310-cp310-win_amd64.whl.metadata (5.3 kB)\n",
      "Collecting aiosignal>=1.1.2 (from aiohttp)\n",
      "  Using cached aiosignal-1.3.1-py3-none-any.whl (7.6 kB)\n",
      "Requirement already satisfied: idna>=2.0 in c:\\users\\texas\\anaconda3\\envs\\animatediff\\lib\\site-packages (from yarl<2.0,>=1.0->aiohttp) (3.4)\n",
      "Using cached aiohttp-3.8.6-cp310-cp310-win_amd64.whl (325 kB)\n",
      "Using cached async_timeout-4.0.3-py3-none-any.whl (5.7 kB)\n",
      "Using cached frozenlist-1.4.0-cp310-cp310-win_amd64.whl (44 kB)\n",
      "Installing collected packages: multidict, frozenlist, async-timeout, yarl, aiosignal, aiohttp\n",
      "Successfully installed aiohttp-3.8.6 aiosignal-1.3.1 async-timeout-4.0.3 frozenlist-1.4.0 multidict-6.0.4 yarl-1.9.2\n"
     ]
    }
   ],
   "source": [
    "\n",
    "# install requirements\n",
    "# !pip install torch=='1.12.1+cu113' 'torchvision==0.13.1+cu113' --extra-index-url https://download.pytorch.org/whl/cu113\n",
    "!pip install pandas>='1.3.5'\n",
    "!git clone https://github.com/salesforce/BLIP scripts/BLIP\n",
    "!pip install timm\n",
    "!pip install fairscale\n",
    "# !pip install transformers=='4.19.2'\n",
    "!pip install timm\n",
    "!pip install aiofiles\n",
    "!pip install aiohttp\n"
   ]
  },
  {
   "cell_type": "code",
   "execution_count": 5,
   "metadata": {},
   "outputs": [
    {
     "name": "stdout",
     "output_type": "stream",
     "text": [
      "^C\n",
      "Requirement already satisfied: pillow in c:\\users\\texas\\anaconda3\\envs\\animatediff\\lib\\site-packages (10.1.0)\n"
     ]
    }
   ],
   "source": [
    "# !pip uninstall pillow\n",
    "# !pip install pillow"
   ]
  },
  {
   "cell_type": "code",
   "execution_count": null,
   "metadata": {},
   "outputs": [],
   "source": [
    "%cd ../data"
   ]
  },
  {
   "cell_type": "code",
   "execution_count": 9,
   "metadata": {},
   "outputs": [
    {
     "name": "stdout",
     "output_type": "stream",
     "text": [
      "c:\\Users\\texas\\Desktop\\School\\SceneFusion\\AnimateDiff-SceneFusion\\data\n",
      "Windows detected, using asyncio.WindowsSelectorEventLoopPolicy\n",
      "BLIP not found, cloning BLIP repo\n",
      "starting\n",
      "input_dir:  raw/1\n",
      "Downloading model to .cache/model_base_caption_capfilt_large.pth... please wait\n",
      "Model cached to: .cache/model_base_caption_capfilt_large.pth\n",
      "load checkpoint from .cache/model_base_caption_capfilt_large.pth\n",
      "loading model to cuda\n",
      "working image:  raw/1\\Screenshot 2023-11-12 155626.png\n",
      "working image:  raw/1\\Screenshot 2023-11-12 155646.png\n",
      "working image:  raw/1\\Screenshot 2023-11-12 155700.png\n",
      "working image:  raw/1\\Screenshot 2023-11-12 155712.png\n",
      "working image:  raw/1\\Screenshot 2023-11-12 155727.png\n",
      "working image:  raw/1\\Screenshot 2023-11-12 155746.png\n"
     ]
    },
    {
     "name": "stderr",
     "output_type": "stream",
     "text": [
      "Cloning into 'scripts/BLIP'...\n"
     ]
    }
   ],
   "source": [
    "# !python EveryDream/scripts/auto_caption.py --img_dir raw/1 --out_dir output "
   ]
  },
  {
   "cell_type": "code",
   "execution_count": 10,
   "metadata": {},
   "outputs": [
    {
     "name": "stderr",
     "output_type": "stream",
     "text": [
      "c:\\Users\\texas\\anaconda3\\envs\\animatediff\\lib\\site-packages\\tqdm\\auto.py:21: TqdmWarning: IProgress not found. Please update jupyter and ipywidgets. See https://ipywidgets.readthedocs.io/en/stable/user_install.html\n",
      "  from .autonotebook import tqdm as notebook_tqdm\n"
     ]
    }
   ],
   "source": [
    "from torchvision import transforms\n",
    "SIZE = 256"
   ]
  },
  {
   "cell_type": "code",
   "execution_count": 11,
   "metadata": {},
   "outputs": [],
   "source": [
    "def load_image(raw_image, device):\n",
    "    transform = transforms.Compose([\n",
    "        #transforms.CenterCrop(SIZE),\n",
    "        transforms.Resize((SIZE, SIZE), interpolation=InterpolationMode.BICUBIC),\n",
    "        transforms.ToTensor(),\n",
    "        transforms.Normalize((0.485, 0.456, 0.406), (0.229, 0.224, 0.225))\n",
    "    ])\n",
    "    image = transform(raw_image).unsqueeze(0).to(device)\n",
    "    return image"
   ]
  },
  {
   "cell_type": "code",
   "execution_count": 31,
   "metadata": {},
   "outputs": [
    {
     "name": "stdout",
     "output_type": "stream",
     "text": [
      "reshape position embedding from 576 to 256\n",
      "load checkpoint from .cache/model_base_caption_capfilt_large.pth\n",
      "loading model to cuda\n"
     ]
    }
   ],
   "source": [
    "import os\n",
    "import sys\n",
    "import torch\n",
    "import aiofiles\n",
    "import io\n",
    "sys.path.append(\"EveryDream/scripts/BLIP\")\n",
    "\n",
    "import models.blip\n",
    "\n",
    "config_path = \"EveryDream/scripts/BLIP/configs/med_config.json\"\n",
    "\n",
    "cache_folder = \".cache\"\n",
    "model_cache_path = \".cache/model_base_caption_capfilt_large.pth\"\n",
    "\n",
    "blip_decoder = models.blip.blip_decoder(pretrained=model_cache_path, image_size=SIZE, vit='base', med_config=config_path)\n",
    "blip_decoder.eval()\n",
    "\n",
    "print(f\"loading model to cuda\")\n",
    "\n",
    "blip_decoder = blip_decoder.to(torch.device(\"cuda\"))\n",
    "    "
   ]
  },
  {
   "cell_type": "code",
   "execution_count": 62,
   "metadata": {},
   "outputs": [
    {
     "name": "stdout",
     "output_type": "stream",
     "text": [
      "['1', '2', '3']\n",
      "working image:  raw/1/0.png\n",
      "working image:  raw/2/0.png\n",
      "working image:  raw/3/0.png\n",
      "minFileCount:  5\n"
     ]
    }
   ],
   "source": [
    "from PIL import Image\n",
    "from torchvision.transforms.functional import InterpolationMode\n",
    "import cv2\n",
    "\n",
    "count = os.listdir(f'raw')\n",
    "print(count)\n",
    "minFileCount = 1000\n",
    "folder = 1\n",
    "\n",
    "# create csv file\n",
    "import pandas as pd\n",
    "df = pd.DataFrame(columns=['videoid', 'name', 'page_dir'])\n",
    "\n",
    "for i in range(1, len(count)+1):\n",
    "    # get list of images from raw/{i} folder\n",
    "    images = os.listdir(f'raw/{i}')\n",
    "    \n",
    "    if len(images) < minFileCount:\n",
    "        minFileCount = len(images)\n",
    "        folder = i\n",
    "    \n",
    "    # rename images to 1.jpg, 2.jpg, 3.jpg, etc\n",
    "    for j in range(len(images)):\n",
    "        os.rename(f'raw/{i}/{images[j]}', f'raw/{i}/{j}.png')\n",
    "        images[j] = f'raw/{i}/{j}.png'\n",
    "    \n",
    "    img_file_name = images[0]\n",
    "    \n",
    "    async with aiofiles.open(img_file_name, \"rb\") as input_file:\n",
    "        print(\"working image: \", img_file_name)\n",
    "\n",
    "        image_bin = await input_file.read()\n",
    "        image = Image.open(io.BytesIO(image_bin))\n",
    "\n",
    "        if not image.mode == \"RGB\":\n",
    "            image = image.convert(\"RGB\")\n",
    "\n",
    "        image = load_image(image, device=torch.device(\"cuda\"))\n",
    "        # caption the image\n",
    "        captions = blip_decoder.generate(image, sample=False, num_beams=16, min_length=22, max_length=48, repetition_penalty=1.0)\n",
    "        caption = captions[0]\n",
    "        \n",
    "        # save caption as name to csv file\n",
    "        df.loc[len(df)] = [i, caption, f'raw/{i}']\n",
    "        \n",
    "        # print(caption)\n",
    "        \n",
    "        # turn images into video\n",
    "        # Get the images\n",
    "        images = [cv2.imread(image_path) for image_path in images]\n",
    "        # crop image to center square shape using the shortest side\n",
    "        images = [image[:, int((image.shape[1] - image.shape[0]) / 2):int((image.shape[1] + image.shape[0]) / 2)] for image in images]\n",
    "        # resize images to 256x256\n",
    "        images = [cv2.resize(image, (256, 256)) for image in images]\n",
    "\n",
    "        # Create a video writer\n",
    "        video_writer = cv2.VideoWriter(f'output/{i}.mp4', cv2.VideoWriter_fourcc(*'mp4v'), 25, (images[0].shape[1], images[0].shape[0]))\n",
    "\n",
    "        # Write the images to the video writer\n",
    "        for image in images:\n",
    "            video_writer.write(image)\n",
    "            \n",
    "print(\"minFileCount: \", minFileCount)\n",
    "            \n",
    "# save csv file\n",
    "df.to_csv('output.csv', index=False)"
   ]
  }
 ],
 "metadata": {
  "kernelspec": {
   "display_name": "animatediff",
   "language": "python",
   "name": "python3"
  },
  "language_info": {
   "codemirror_mode": {
    "name": "ipython",
    "version": 3
   },
   "file_extension": ".py",
   "mimetype": "text/x-python",
   "name": "python",
   "nbconvert_exporter": "python",
   "pygments_lexer": "ipython3",
   "version": "3.10.13"
  }
 },
 "nbformat": 4,
 "nbformat_minor": 2
}
