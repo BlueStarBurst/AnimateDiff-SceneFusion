{
 "cells": [
  {
   "cell_type": "code",
   "execution_count": 1,
   "metadata": {},
   "outputs": [
    {
     "name": "stdout",
     "output_type": "stream",
     "text": [
      "c:\\Users\\texas\\Desktop\\Personal\\SceneFusion\\AnimateDiff-SceneFusion\\data\\EveryDream\n"
     ]
    },
    {
     "name": "stderr",
     "output_type": "stream",
     "text": [
      "Cloning into 'EveryDream'...\n",
      "C:\\Users\\texas\\AppData\\Roaming\\Python\\Python310\\site-packages\\IPython\\core\\magics\\osm.py:417: UserWarning: using dhist requires you to install the `pickleshare` library.\n",
      "  self.shell.db['dhist'] = compress_dhist(dhist)[-100:]\n"
     ]
    }
   ],
   "source": [
    "#download repo\n",
    "!git clone https://github.com/victorchall/EveryDream.git\n",
    "# Set working directory\n",
    "%cd EveryDream"
   ]
  },
  {
   "cell_type": "code",
   "execution_count": 10,
   "metadata": {},
   "outputs": [
    {
     "name": "stderr",
     "output_type": "stream",
     "text": [
      "fatal: destination path 'scripts/BLIP' already exists and is not an empty directory.\n"
     ]
    },
    {
     "name": "stdout",
     "output_type": "stream",
     "text": [
      "Requirement already satisfied: timm in c:\\users\\texas\\anaconda3\\envs\\animatediff\\lib\\site-packages (0.9.10)\n",
      "Requirement already satisfied: torch>=1.7 in c:\\users\\texas\\anaconda3\\envs\\animatediff\\lib\\site-packages (from timm) (1.13.1)\n",
      "Requirement already satisfied: torchvision in c:\\users\\texas\\anaconda3\\envs\\animatediff\\lib\\site-packages (from timm) (0.14.1)\n",
      "Requirement already satisfied: pyyaml in c:\\users\\texas\\anaconda3\\envs\\animatediff\\lib\\site-packages (from timm) (6.0.1)\n",
      "Requirement already satisfied: huggingface-hub in c:\\users\\texas\\anaconda3\\envs\\animatediff\\lib\\site-packages (from timm) (0.19.1)\n",
      "Requirement already satisfied: safetensors in c:\\users\\texas\\anaconda3\\envs\\animatediff\\lib\\site-packages (from timm) (0.4.0)\n",
      "Requirement already satisfied: typing_extensions in c:\\users\\texas\\anaconda3\\envs\\animatediff\\lib\\site-packages (from torch>=1.7->timm) (4.8.0)\n",
      "Requirement already satisfied: filelock in c:\\users\\texas\\anaconda3\\envs\\animatediff\\lib\\site-packages (from huggingface-hub->timm) (3.13.1)\n",
      "Requirement already satisfied: fsspec>=2023.5.0 in c:\\users\\texas\\anaconda3\\envs\\animatediff\\lib\\site-packages (from huggingface-hub->timm) (2023.10.0)\n",
      "Requirement already satisfied: requests in c:\\users\\texas\\anaconda3\\envs\\animatediff\\lib\\site-packages (from huggingface-hub->timm) (2.31.0)\n",
      "Requirement already satisfied: tqdm>=4.42.1 in c:\\users\\texas\\anaconda3\\envs\\animatediff\\lib\\site-packages (from huggingface-hub->timm) (4.66.1)\n",
      "Requirement already satisfied: packaging>=20.9 in c:\\users\\texas\\appdata\\roaming\\python\\python310\\site-packages (from huggingface-hub->timm) (23.2)\n",
      "Requirement already satisfied: numpy in c:\\users\\texas\\anaconda3\\envs\\animatediff\\lib\\site-packages (from torchvision->timm) (1.26.0)\n",
      "Requirement already satisfied: pillow!=8.3.*,>=5.3.0 in c:\\users\\texas\\anaconda3\\envs\\animatediff\\lib\\site-packages (from torchvision->timm) (10.0.1)\n",
      "Requirement already satisfied: colorama in c:\\users\\texas\\appdata\\roaming\\python\\python310\\site-packages (from tqdm>=4.42.1->huggingface-hub->timm) (0.4.6)\n",
      "Requirement already satisfied: charset-normalizer<4,>=2 in c:\\users\\texas\\anaconda3\\envs\\animatediff\\lib\\site-packages (from requests->huggingface-hub->timm) (2.0.4)\n",
      "Requirement already satisfied: idna<4,>=2.5 in c:\\users\\texas\\anaconda3\\envs\\animatediff\\lib\\site-packages (from requests->huggingface-hub->timm) (3.4)\n",
      "Requirement already satisfied: urllib3<3,>=1.21.1 in c:\\users\\texas\\anaconda3\\envs\\animatediff\\lib\\site-packages (from requests->huggingface-hub->timm) (1.26.18)\n",
      "Requirement already satisfied: certifi>=2017.4.17 in c:\\users\\texas\\anaconda3\\envs\\animatediff\\lib\\site-packages (from requests->huggingface-hub->timm) (2023.7.22)\n",
      "Collecting fairscale\n",
      "  Downloading fairscale-0.4.13.tar.gz (266 kB)\n",
      "     ---------------------------------------- 0.0/266.3 kB ? eta -:--:--\n",
      "     - -------------------------------------- 10.2/266.3 kB ? eta -:--:--\n",
      "     ---- -------------------------------- 30.7/266.3 kB 325.1 kB/s eta 0:00:01\n",
      "     --------------------------- ---------- 194.6/266.3 kB 1.7 MB/s eta 0:00:01\n",
      "     -------------------------------------- 266.3/266.3 kB 2.0 MB/s eta 0:00:00\n",
      "  Installing build dependencies: started\n",
      "  Installing build dependencies: finished with status 'done'\n",
      "  Getting requirements to build wheel: started\n",
      "  Getting requirements to build wheel: finished with status 'done'\n",
      "  Installing backend dependencies: started\n",
      "  Installing backend dependencies: finished with status 'done'\n",
      "  Preparing metadata (pyproject.toml): started\n",
      "  Preparing metadata (pyproject.toml): finished with status 'done'\n",
      "Requirement already satisfied: torch>=1.8.0 in c:\\users\\texas\\anaconda3\\envs\\animatediff\\lib\\site-packages (from fairscale) (1.13.1)\n",
      "Requirement already satisfied: numpy>=1.22.0 in c:\\users\\texas\\anaconda3\\envs\\animatediff\\lib\\site-packages (from fairscale) (1.26.0)\n",
      "Requirement already satisfied: typing_extensions in c:\\users\\texas\\anaconda3\\envs\\animatediff\\lib\\site-packages (from torch>=1.8.0->fairscale) (4.8.0)\n",
      "Building wheels for collected packages: fairscale\n",
      "  Building wheel for fairscale (pyproject.toml): started\n",
      "  Building wheel for fairscale (pyproject.toml): finished with status 'done'\n",
      "  Created wheel for fairscale: filename=fairscale-0.4.13-py3-none-any.whl size=332117 sha256=5b1df0e5e9058fefe2a3ecb3a03ac701ccac1518886122935326cf1eab31ea14\n",
      "  Stored in directory: c:\\users\\texas\\appdata\\local\\pip\\cache\\wheels\\78\\a4\\c0\\fb0a7ef03cff161611c3fa40c6cf898f76e58ec421b88e8cb3\n",
      "Successfully built fairscale\n",
      "Installing collected packages: fairscale\n",
      "Successfully installed fairscale-0.4.13\n",
      "Requirement already satisfied: timm in c:\\users\\texas\\anaconda3\\envs\\animatediff\\lib\\site-packages (0.9.10)\n",
      "Requirement already satisfied: torch>=1.7 in c:\\users\\texas\\anaconda3\\envs\\animatediff\\lib\\site-packages (from timm) (1.13.1)\n",
      "Requirement already satisfied: torchvision in c:\\users\\texas\\anaconda3\\envs\\animatediff\\lib\\site-packages (from timm) (0.14.1)\n",
      "Requirement already satisfied: pyyaml in c:\\users\\texas\\anaconda3\\envs\\animatediff\\lib\\site-packages (from timm) (6.0.1)\n",
      "Requirement already satisfied: huggingface-hub in c:\\users\\texas\\anaconda3\\envs\\animatediff\\lib\\site-packages (from timm) (0.19.1)\n",
      "Requirement already satisfied: safetensors in c:\\users\\texas\\anaconda3\\envs\\animatediff\\lib\\site-packages (from timm) (0.4.0)\n",
      "Requirement already satisfied: typing_extensions in c:\\users\\texas\\anaconda3\\envs\\animatediff\\lib\\site-packages (from torch>=1.7->timm) (4.8.0)\n",
      "Requirement already satisfied: filelock in c:\\users\\texas\\anaconda3\\envs\\animatediff\\lib\\site-packages (from huggingface-hub->timm) (3.13.1)\n",
      "Requirement already satisfied: fsspec>=2023.5.0 in c:\\users\\texas\\anaconda3\\envs\\animatediff\\lib\\site-packages (from huggingface-hub->timm) (2023.10.0)\n",
      "Requirement already satisfied: requests in c:\\users\\texas\\anaconda3\\envs\\animatediff\\lib\\site-packages (from huggingface-hub->timm) (2.31.0)\n",
      "Requirement already satisfied: tqdm>=4.42.1 in c:\\users\\texas\\anaconda3\\envs\\animatediff\\lib\\site-packages (from huggingface-hub->timm) (4.66.1)\n",
      "Requirement already satisfied: packaging>=20.9 in c:\\users\\texas\\appdata\\roaming\\python\\python310\\site-packages (from huggingface-hub->timm) (23.2)\n",
      "Requirement already satisfied: numpy in c:\\users\\texas\\anaconda3\\envs\\animatediff\\lib\\site-packages (from torchvision->timm) (1.26.0)\n",
      "Requirement already satisfied: pillow!=8.3.*,>=5.3.0 in c:\\users\\texas\\anaconda3\\envs\\animatediff\\lib\\site-packages (from torchvision->timm) (10.0.1)\n",
      "Requirement already satisfied: colorama in c:\\users\\texas\\appdata\\roaming\\python\\python310\\site-packages (from tqdm>=4.42.1->huggingface-hub->timm) (0.4.6)\n",
      "Requirement already satisfied: charset-normalizer<4,>=2 in c:\\users\\texas\\anaconda3\\envs\\animatediff\\lib\\site-packages (from requests->huggingface-hub->timm) (2.0.4)\n",
      "Requirement already satisfied: idna<4,>=2.5 in c:\\users\\texas\\anaconda3\\envs\\animatediff\\lib\\site-packages (from requests->huggingface-hub->timm) (3.4)\n",
      "Requirement already satisfied: urllib3<3,>=1.21.1 in c:\\users\\texas\\anaconda3\\envs\\animatediff\\lib\\site-packages (from requests->huggingface-hub->timm) (1.26.18)\n",
      "Requirement already satisfied: certifi>=2017.4.17 in c:\\users\\texas\\anaconda3\\envs\\animatediff\\lib\\site-packages (from requests->huggingface-hub->timm) (2023.7.22)\n",
      "Requirement already satisfied: aiofiles in c:\\users\\texas\\anaconda3\\envs\\animatediff\\lib\\site-packages (23.2.1)\n",
      "Requirement already satisfied: aiohttp in c:\\users\\texas\\anaconda3\\envs\\animatediff\\lib\\site-packages (3.8.6)\n",
      "Requirement already satisfied: attrs>=17.3.0 in c:\\users\\texas\\anaconda3\\envs\\animatediff\\lib\\site-packages (from aiohttp) (23.1.0)\n",
      "Requirement already satisfied: charset-normalizer<4.0,>=2.0 in c:\\users\\texas\\anaconda3\\envs\\animatediff\\lib\\site-packages (from aiohttp) (2.0.4)\n",
      "Requirement already satisfied: multidict<7.0,>=4.5 in c:\\users\\texas\\anaconda3\\envs\\animatediff\\lib\\site-packages (from aiohttp) (6.0.4)\n",
      "Requirement already satisfied: async-timeout<5.0,>=4.0.0a3 in c:\\users\\texas\\anaconda3\\envs\\animatediff\\lib\\site-packages (from aiohttp) (4.0.3)\n",
      "Requirement already satisfied: yarl<2.0,>=1.0 in c:\\users\\texas\\anaconda3\\envs\\animatediff\\lib\\site-packages (from aiohttp) (1.9.2)\n",
      "Requirement already satisfied: frozenlist>=1.1.1 in c:\\users\\texas\\anaconda3\\envs\\animatediff\\lib\\site-packages (from aiohttp) (1.4.0)\n",
      "Requirement already satisfied: aiosignal>=1.1.2 in c:\\users\\texas\\anaconda3\\envs\\animatediff\\lib\\site-packages (from aiohttp) (1.3.1)\n",
      "Requirement already satisfied: idna>=2.0 in c:\\users\\texas\\anaconda3\\envs\\animatediff\\lib\\site-packages (from yarl<2.0,>=1.0->aiohttp) (3.4)\n"
     ]
    }
   ],
   "source": [
    "\n",
    "# install requirements\n",
    "# !pip install torch=='1.12.1+cu113' 'torchvision==0.13.1+cu113' --extra-index-url https://download.pytorch.org/whl/cu113\n",
    "!pip install pandas>='1.3.5'\n",
    "!git clone https://github.com/salesforce/BLIP scripts/BLIP\n",
    "!pip install timm\n",
    "!pip install fairscale\n",
    "# !pip install transformers=='4.19.2'\n",
    "!pip install timm\n",
    "!pip install aiofiles\n",
    "!pip install aiohttp\n"
   ]
  },
  {
   "cell_type": "code",
   "execution_count": 11,
   "metadata": {},
   "outputs": [
    {
     "name": "stdout",
     "output_type": "stream",
     "text": [
      "Windows detected, using asyncio.WindowsSelectorEventLoopPolicy\n",
      "starting\n",
      "input_dir:  raw/1\n",
      "Downloading model to .cache/model_base_caption_capfilt_large.pth... please wait\n",
      "Model cached to: .cache/model_base_caption_capfilt_large.pth\n",
      "load checkpoint from .cache/model_base_caption_capfilt_large.pth\n",
      "loading model to cuda\n"
     ]
    },
    {
     "name": "stderr",
     "output_type": "stream",
     "text": [
      "\n",
      "(…)bert-base-uncased/resolve/main/vocab.txt:   0%|          | 0.00/232k [00:00<?, ?B/s]\n",
      "(…)bert-base-uncased/resolve/main/vocab.txt: 100%|██████████| 232k/232k [00:00<00:00, 28.9MB/s]\n",
      "\n",
      "(…)cased/resolve/main/tokenizer_config.json:   0%|          | 0.00/28.0 [00:00<?, ?B/s]\n",
      "(…)cased/resolve/main/tokenizer_config.json: 100%|██████████| 28.0/28.0 [00:00<?, ?B/s]\n",
      "\n",
      "(…)rt-base-uncased/resolve/main/config.json:   0%|          | 0.00/570 [00:00<?, ?B/s]\n",
      "(…)rt-base-uncased/resolve/main/config.json: 100%|██████████| 570/570 [00:00<00:00, 569kB/s]\n",
      "Traceback (most recent call last):\n",
      "  File \"c:\\Users\\texas\\Desktop\\Personal\\SceneFusion\\AnimateDiff-SceneFusion\\data\\EveryDream\\scripts\\auto_caption.py\", line 217, in <module>\n",
      "    asyncio.run(main(opt))\n",
      "  File \"c:\\Users\\texas\\anaconda3\\envs\\animatediff\\lib\\asyncio\\runners.py\", line 44, in run\n",
      "    return loop.run_until_complete(main)\n",
      "  File \"c:\\Users\\texas\\anaconda3\\envs\\animatediff\\lib\\asyncio\\base_events.py\", line 649, in run_until_complete\n",
      "    return future.result()\n",
      "  File \"c:\\Users\\texas\\Desktop\\Personal\\SceneFusion\\AnimateDiff-SceneFusion\\data\\EveryDream\\scripts\\auto_caption.py\", line 132, in main\n",
      "    blip_decoder = blip_decoder.to(torch.device(opt.torch_device))\n",
      "  File \"c:\\Users\\texas\\anaconda3\\envs\\animatediff\\lib\\site-packages\\torch\\nn\\modules\\module.py\", line 989, in to\n",
      "    return self._apply(convert)\n",
      "  File \"c:\\Users\\texas\\anaconda3\\envs\\animatediff\\lib\\site-packages\\torch\\nn\\modules\\module.py\", line 641, in _apply\n",
      "    module._apply(fn)\n",
      "  File \"c:\\Users\\texas\\anaconda3\\envs\\animatediff\\lib\\site-packages\\torch\\nn\\modules\\module.py\", line 641, in _apply\n",
      "    module._apply(fn)\n",
      "  File \"c:\\Users\\texas\\anaconda3\\envs\\animatediff\\lib\\site-packages\\torch\\nn\\modules\\module.py\", line 641, in _apply\n",
      "    module._apply(fn)\n",
      "  File \"c:\\Users\\texas\\anaconda3\\envs\\animatediff\\lib\\site-packages\\torch\\nn\\modules\\module.py\", line 664, in _apply\n",
      "    param_applied = fn(param)\n",
      "  File \"c:\\Users\\texas\\anaconda3\\envs\\animatediff\\lib\\site-packages\\torch\\nn\\modules\\module.py\", line 987, in convert\n",
      "    return t.to(device, dtype if t.is_floating_point() or t.is_complex() else None, non_blocking)\n",
      "  File \"c:\\Users\\texas\\anaconda3\\envs\\animatediff\\lib\\site-packages\\torch\\cuda\\__init__.py\", line 229, in _lazy_init\n",
      "    torch._C._cuda_init()\n",
      "RuntimeError: Found no NVIDIA driver on your system. Please check that you have an NVIDIA GPU and installed a driver from http://www.nvidia.com/Download/index.aspx\n"
     ]
    }
   ],
   "source": [
    "!python scripts/auto_caption.py --img_dir raw/1 --out_dir output "
   ]
  }
 ],
 "metadata": {
  "kernelspec": {
   "display_name": "animatediff",
   "language": "python",
   "name": "python3"
  },
  "language_info": {
   "codemirror_mode": {
    "name": "ipython",
    "version": 3
   },
   "file_extension": ".py",
   "mimetype": "text/x-python",
   "name": "python",
   "nbconvert_exporter": "python",
   "pygments_lexer": "ipython3",
   "version": "3.10.13"
  }
 },
 "nbformat": 4,
 "nbformat_minor": 2
}
